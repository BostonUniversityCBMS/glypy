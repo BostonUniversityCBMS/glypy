{
 "metadata": {
  "name": "",
  "signature": "sha256:0ef095573404611a07c23e0247289cec1e0a4ad6c01626234dc16b107c5276cb"
 },
 "nbformat": 3,
 "nbformat_minor": 0,
 "worksheets": [
  {
   "cells": [
    {
     "cell_type": "code",
     "collapsed": false,
     "input": [
      "from pygly2.plot import draw_tree, buchheim, cfg_symbols\n",
      "reload(draw_tree)\n",
      "reload(buchheim)\n",
      "reload(cfg_symbols)\n",
      "from pygly2 import monosaccharides, glycans\n",
      "from pygly2.structure import glycan, monosaccharide\n",
      "\n",
      "import matplotlib\n",
      "\n",
      "%matplotlib inline\n",
      "\n",
      "matplotlib.rcParams[\"figure.figsize\"] = (10, 10)"
     ],
     "language": "python",
     "metadata": {},
     "outputs": [],
     "prompt_number": 1
    },
    {
     "cell_type": "code",
     "collapsed": false,
     "input": [
      "x = glycans['N-Linked Core']\n",
      "x[0].add_monosaccharide(monosaccharides['Fuc'], 3, child_position=1)\n",
      "x[-1].add_monosaccharide(glycans['N-Linked Core'].deindex().root, position=3, child_position=1)\n",
      "x.reindex()\n",
      "x[-1].add_monosaccharide(monosaccharides['GlcA'], position=4, child_position=1)\n",
      "x.reindex()\n",
      "x[-1].add_monosaccharide(monosaccharides['GalA'], position=4, child_position=1)\n",
      "x.reindex()\n",
      "x[-1].add_monosaccharide(monosaccharides['Man'].add_modification('a', 2), position=5, child_position=1)\n",
      "x.reindex()\n",
      "x[-2].add_monosaccharide(monosaccharides['IdoA'], position=4, child_position=4)\n",
      "x[-1].add_monosaccharide(monosaccharides['NeuAc'], position=4, child_position=4)\n",
      "x[-1].add_monosaccharide(monosaccharides['NeuGc'], position=5, child_position=4)\n",
      "x[-1].add_monosaccharide(monosaccharides['KDN'], position=6, child_position=4)\n",
      "x.reindex()\n",
      "x[-1].add_monosaccharide(monosaccharides[\"Xyl\"], position=6, child_position=4)"
     ],
     "language": "python",
     "metadata": {},
     "outputs": [
      {
       "metadata": {},
       "output_type": "pyout",
       "prompt_number": 2,
       "text": [
        "RES\n",
        "1b:a-dgro-dgal-NON-2:6|1:a|2:keto|3:d\n",
        "2s:n-glycolyl\n",
        "LIN\n",
        "1:1d(5+2)2n"
       ]
      }
     ],
     "prompt_number": 2
    },
    {
     "cell_type": "code",
     "collapsed": false,
     "input": [
      "draw_tree.plot(x, orientation='h')"
     ],
     "language": "python",
     "metadata": {},
     "outputs": [
      {
       "output_type": "stream",
       "stream": "stdout",
       "text": [
        "(<ResidueShape square:2>, <function draw_square at 0x0000000009B17278>)\n",
        "(<ResidueShape square:2>, <function draw_square at 0x0000000009B17278>)\n",
        "(<ResidueShape circle:1>, <function draw_square at 0x0000000009B17278>)\n",
        "(<ResidueShape circle:1>, <function draw_square at 0x0000000009B17278>)\n",
        "(<ResidueShape square:2>, <function draw_square at 0x0000000009B17278>)\n",
        "(<ResidueShape square:2>, <function draw_square at 0x0000000009B17278>)\n",
        "(<ResidueShape circle:1>, <function draw_square at 0x0000000009B17278>)\n",
        "(<ResidueShape circle:1>, <function draw_square at 0x0000000009B17278>)\n",
        "(<ResidueShape circle:1>, <function draw_square at 0x0000000009B17278>)\n",
        "(<ResidueShape top_bisected_diamond:7>, <function draw_square at 0x0000000009B17278>)\n",
        "(<ResidueShape left_bisected_diamond:8>, <function draw_square at 0x0000000009B17278>)\n",
        "(<ResidueShape right_bisected_diamond:9>, <function draw_square at 0x0000000009B17278>)\n",
        "(<ResidueShape diamond:6>, <function draw_square at 0x0000000009B17278>)"
       ]
      },
      {
       "output_type": "stream",
       "stream": "stdout",
       "text": [
        "\n",
        "(<ResidueShape diamond:6>, <function draw_square at 0x0000000009B17278>)\n",
        "(<ResidueShape star:5>, <function draw_square at 0x0000000009B17278>)\n",
        "(<ResidueShape diamond:6>, <function draw_square at 0x0000000009B17278>)\n",
        "(<ResidueShape bottom_bisected_diamond:10>, <function draw_square at 0x0000000009B17278>)\n",
        "(<ResidueShape circle:1>, <function draw_square at 0x0000000009B17278>)\n",
        "(<ResidueShape triangle:4>, <function draw_square at 0x0000000009B17278>)\n",
        "(-6.0, 0.0, 0.0, 1.25)\n"
       ]
      },
      {
       "metadata": {},
       "output_type": "pyout",
       "prompt_number": 3,
       "text": [
        "(RES\n",
        " 1b:b-dglc-HEX-1:5\n",
        " 2s:n-acetyl\n",
        " LIN\n",
        " 1:1d(2+1)2n: x=1.0 mod=0, <matplotlib.axes.AxesSubplot at 0x9bdbbe0>)"
       ]
      },
      {
       "metadata": {},
       "output_type": "display_data",
       "png": "[encoded data removed]",
       "text": [
        "<matplotlib.figure.Figure at 0x367e5c0>"
       ]
      }
     ],
     "prompt_number": 3
    },
    {
     "cell_type": "code",
     "collapsed": false,
     "input": [
      "x"
     ],
     "language": "python",
     "metadata": {},
     "outputs": [
      {
       "metadata": {},
       "output_type": "pyout",
       "prompt_number": 4,
       "text": [
        "RES\n",
        "1b:b-dglc-HEX-1:5\n",
        "2s:n-acetyl\n",
        "3b:b-dglc-HEX-1:5\n",
        "4s:n-acetyl\n",
        "5b:b-dman-HEX-1:5\n",
        "6b:a-dman-HEX-1:5\n",
        "7b:b-dglc-HEX-1:5\n",
        "8s:n-acetyl\n",
        "9b:b-dglc-HEX-1:5\n",
        "10s:n-acetyl\n",
        "11b:b-dman-HEX-1:5\n",
        "12b:a-dman-HEX-1:5\n",
        "13b:b-dglc-HEX-1:5|6:a\n",
        "14b:x-dgal-HEX-1:5|6:a\n",
        "15b:b-dman-HEX-1:5|2:a\n",
        "16b:a-dgro-dgal-NON-2:6|1:a|2:keto|3:d\n",
        "17s:n-glycolyl\n",
        "18b:x-dxyl-PEN-1:5\n",
        "19b:a-dgro-dgal-NON-2:6|1:a|2:keto|3:d\n",
        "20s:n-acetyl\n",
        "21b:a-dgro-dgal-NON-2:6|1:a|2:keto|3:d\n",
        "22b:x-lido-HEX-1:5|6:a\n",
        "23b:a-dman-HEX-1:5\n",
        "24b:a-dman-HEX-1:5\n",
        "25b:a-lgal-HEX-1:5|6:d\n",
        "LIN\n",
        "1:1d(2+1)2n\n",
        "2:1o(4+1)3d\n",
        "3:1o(3+1)25d\n",
        "4:3d(2+1)4n\n",
        "5:3o(4+1)5d\n",
        "6:5o(3+1)6d\n",
        "7:5o(6+1)24d\n",
        "8:6o(3+1)7d\n",
        "9:7d(2+1)8n\n",
        "10:7o(4+1)9d\n",
        "11:9d(2+1)10n\n",
        "12:9o(4+1)11d\n",
        "13:11o(3+1)23d\n",
        "14:11o(6+1)12d\n",
        "15:12o(4+1)13d\n",
        "16:13o(4+1)14d\n",
        "17:14o(5+1)15d\n",
        "18:14o(4+4)22d\n",
        "19:15o(4+4)19d\n",
        "20:15o(5+4)16d\n",
        "21:15o(6+4)21d\n",
        "22:16d(5+2)17n\n",
        "23:16o(6+4)18d\n",
        "24:19d(5+1)20n"
       ]
      }
     ],
     "prompt_number": 4
    },
    {
     "cell_type": "code",
     "collapsed": false,
     "input": [
      "import requests\n",
      "from lxml import etree\n",
      "from pygly2.io import glycoct\n",
      "\n",
      "url_template = \"http://www.glycome-db.org/database/showStructure.action?glycomeId={id}\"\n",
      "xpath = \".//condenced\"\n",
      "\n",
      "def get(id):\n",
      "    '''\n",
      "    Get the structure for `id` from :title-reference:`GlycomeDB`.\n",
      "    '''\n",
      "    r = requests.get(url_template.format(id=id))\n",
      "    r.raise_for_status()\n",
      "    tree = etree.fromstring(r.content)\n",
      "    condensed = tree.find(xpath).text\n",
      "    return glycoct.loads(condensed).next()\n"
     ],
     "language": "python",
     "metadata": {},
     "outputs": [],
     "prompt_number": 5
    },
    {
     "cell_type": "code",
     "collapsed": false,
     "input": [
      "case = get(2852)\n",
      "draw_tree.plot(case)"
     ],
     "language": "python",
     "metadata": {},
     "outputs": [
      {
       "output_type": "stream",
       "stream": "stdout",
       "text": [
        "(<ResidueShape circle:1>, <function draw_square at 0x0000000009B17278>)\n",
        "(<ResidueShape circle:1>, <function draw_square at 0x0000000009B17278>)\n",
        "(<ResidueShape circle:1>, <function draw_square at 0x0000000009B17278>)\n",
        "(<ResidueShape circle:1>, <function draw_square at 0x0000000009B17278>)\n",
        "(<ResidueShape circle:1>, <function draw_square at 0x0000000009B17278>)\n",
        "(<ResidueShape star:5>, <function draw_square at 0x0000000009B17278>)\n",
        "(-1.5, 0.0, 0.0, 0.75)\n"
       ]
      },
      {
       "metadata": {},
       "output_type": "pyout",
       "prompt_number": 9,
       "text": [
        "(RES\n",
        " 1b:a-dglc-HEX-1:5: x=0.25 mod=0, <matplotlib.axes.AxesSubplot at 0xb14b128>)"
       ]
      },
      {
       "metadata": {},
       "output_type": "display_data",
       "png": "[encoded data removed]",
       "text": [
        "<matplotlib.figure.Figure at 0xb1286a0>"
       ]
      }
     ],
     "prompt_number": 9
    },
    {
     "cell_type": "code",
     "collapsed": false,
     "input": [
      "case"
     ],
     "language": "python",
     "metadata": {},
     "outputs": [
      {
       "metadata": {},
       "output_type": "pyout",
       "prompt_number": 10,
       "text": [
        "RES\n",
        "1b:a-dglc-HEX-1:5\n",
        "2b:b-dglc-HEX-1:5\n",
        "3b:b-dglc-HEX-1:5\n",
        "4b:b-dxyl-PEN-1:5\n",
        "5b:b-dglc-HEX-1:5\n",
        "6b:b-dglc-HEX-1:5\n",
        "LIN\n",
        "1:1o(3+1)6d\n",
        "2:1o(6+1)2d\n",
        "3:2o(6+1)3d\n",
        "4:3o(3+1)5d\n",
        "5:3o(6+1)4d"
       ]
      }
     ],
     "prompt_number": 10
    },
    {
     "cell_type": "code",
     "collapsed": false,
     "input": [],
     "language": "python",
     "metadata": {},
     "outputs": []
    }
   ],
   "metadata": {}
  }
 ]
}