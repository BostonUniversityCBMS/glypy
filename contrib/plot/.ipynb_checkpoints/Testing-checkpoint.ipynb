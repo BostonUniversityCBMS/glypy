{
 "metadata": {
  "name": "",
  "signature": "sha256:e3ee9ecc39fe23271415f26b2721ce395da24339a102e1249c5427bfd2cd6514"
 },
 "nbformat": 3,
 "nbformat_minor": 0,
 "worksheets": [
  {
   "cells": [
    {
     "cell_type": "code",
     "collapsed": false,
     "input": [
      "from pygly2.plot import draw_tree, buchheim, cfg_symbols\n",
      "reload(draw_tree)\n",
      "reload(buchheim)\n",
      "reload(cfg_symbols)\n",
      "from pygly2 import monosaccharides, glycans\n",
      "from pygly2.structure import glycan, monosaccharide\n",
      "reload(glycan)\n",
      "reload(monosaccharide)\n",
      "\n",
      "%matplotlib inline"
     ],
     "language": "python",
     "metadata": {},
     "outputs": [],
     "prompt_number": 22
    },
    {
     "cell_type": "code",
     "collapsed": false,
     "input": [
      "x = glycans['N-Linked Core']\n",
      "x[-1].add_monosaccharide(glycans['N-Linked Core'].deindex().root, position=3, child_position=1)\n",
      "x.reindex()\n",
      "x[-1].add_monosaccharide(monosaccharides['GlcA'], position=4, child_position=1)\n",
      "x.reindex()\n",
      "x[-1].add_monosaccharide(monosaccharides['GalA'], position=4, child_position=1)\n",
      "x.reindex()\n",
      "x[-1].add_monosaccharide(monosaccharides['ManA'], position=4, child_position=1)\n",
      "x.reindex()"
     ],
     "language": "python",
     "metadata": {},
     "outputs": [
      {
       "ename": "KeyError",
       "evalue": "'ManA'",
       "output_type": "pyerr",
       "traceback": [
        "\u001b[1;31m---------------------------------------------------------------------------\u001b[0m\n\u001b[1;31mKeyError\u001b[0m                                  Traceback (most recent call last)",
        "\u001b[1;32m<ipython-input-25-c2d0d7c7b174>\u001b[0m in \u001b[0;36m<module>\u001b[1;34m()\u001b[0m\n\u001b[0;32m      6\u001b[0m \u001b[0mx\u001b[0m\u001b[1;33m[\u001b[0m\u001b[1;33m-\u001b[0m\u001b[1;36m1\u001b[0m\u001b[1;33m]\u001b[0m\u001b[1;33m.\u001b[0m\u001b[0madd_monosaccharide\u001b[0m\u001b[1;33m(\u001b[0m\u001b[0mmonosaccharides\u001b[0m\u001b[1;33m[\u001b[0m\u001b[1;34m'GalA'\u001b[0m\u001b[1;33m]\u001b[0m\u001b[1;33m,\u001b[0m \u001b[0mposition\u001b[0m\u001b[1;33m=\u001b[0m\u001b[1;36m4\u001b[0m\u001b[1;33m,\u001b[0m \u001b[0mchild_position\u001b[0m\u001b[1;33m=\u001b[0m\u001b[1;36m1\u001b[0m\u001b[1;33m)\u001b[0m\u001b[1;33m\u001b[0m\u001b[0m\n\u001b[0;32m      7\u001b[0m \u001b[0mx\u001b[0m\u001b[1;33m.\u001b[0m\u001b[0mreindex\u001b[0m\u001b[1;33m(\u001b[0m\u001b[1;33m)\u001b[0m\u001b[1;33m\u001b[0m\u001b[0m\n\u001b[1;32m----> 8\u001b[1;33m \u001b[0mx\u001b[0m\u001b[1;33m[\u001b[0m\u001b[1;33m-\u001b[0m\u001b[1;36m1\u001b[0m\u001b[1;33m]\u001b[0m\u001b[1;33m.\u001b[0m\u001b[0madd_monosaccharide\u001b[0m\u001b[1;33m(\u001b[0m\u001b[0mmonosaccharides\u001b[0m\u001b[1;33m[\u001b[0m\u001b[1;34m'ManA'\u001b[0m\u001b[1;33m]\u001b[0m\u001b[1;33m,\u001b[0m \u001b[0mposition\u001b[0m\u001b[1;33m=\u001b[0m\u001b[1;36m4\u001b[0m\u001b[1;33m,\u001b[0m \u001b[0mchild_position\u001b[0m\u001b[1;33m=\u001b[0m\u001b[1;36m1\u001b[0m\u001b[1;33m)\u001b[0m\u001b[1;33m\u001b[0m\u001b[0m\n\u001b[0m\u001b[0;32m      9\u001b[0m \u001b[0mx\u001b[0m\u001b[1;33m.\u001b[0m\u001b[0mreindex\u001b[0m\u001b[1;33m(\u001b[0m\u001b[1;33m)\u001b[0m\u001b[1;33m\u001b[0m\u001b[0m\n",
        "\u001b[1;32md:\\dropbox\\glycomicssandbox\\pygly2\\pygly2\\structure\\named_structures.pyc\u001b[0m in \u001b[0;36m__getitem__\u001b[1;34m(self, key)\u001b[0m\n\u001b[0;32m     18\u001b[0m \u001b[1;33m\u001b[0m\u001b[0m\n\u001b[0;32m     19\u001b[0m     \u001b[1;32mdef\u001b[0m \u001b[0m__getitem__\u001b[0m\u001b[1;33m(\u001b[0m\u001b[0mself\u001b[0m\u001b[1;33m,\u001b[0m \u001b[0mkey\u001b[0m\u001b[1;33m)\u001b[0m\u001b[1;33m:\u001b[0m\u001b[1;33m\u001b[0m\u001b[0m\n\u001b[1;32m---> 20\u001b[1;33m         \u001b[0mx\u001b[0m \u001b[1;33m=\u001b[0m \u001b[0mdict\u001b[0m\u001b[1;33m.\u001b[0m\u001b[0m__getitem__\u001b[0m\u001b[1;33m(\u001b[0m\u001b[0mself\u001b[0m\u001b[1;33m,\u001b[0m \u001b[0mkey\u001b[0m\u001b[1;33m)\u001b[0m\u001b[1;33m\u001b[0m\u001b[0m\n\u001b[0m\u001b[0;32m     21\u001b[0m         \u001b[0mret\u001b[0m \u001b[1;33m=\u001b[0m \u001b[0mdeepcopy\u001b[0m\u001b[1;33m(\u001b[0m\u001b[0mx\u001b[0m\u001b[1;33m)\u001b[0m\u001b[1;33m\u001b[0m\u001b[0m\n\u001b[0;32m     22\u001b[0m         \u001b[0mret\u001b[0m\u001b[1;33m.\u001b[0m\u001b[0mid\u001b[0m \u001b[1;33m=\u001b[0m \u001b[0muuid\u001b[0m\u001b[1;33m.\u001b[0m\u001b[0muuid4\u001b[0m\u001b[1;33m(\u001b[0m\u001b[1;33m)\u001b[0m\u001b[1;33m.\u001b[0m\u001b[0mint\u001b[0m\u001b[1;33m\u001b[0m\u001b[0m\n",
        "\u001b[1;31mKeyError\u001b[0m: 'ManA'"
       ]
      }
     ],
     "prompt_number": 25
    },
    {
     "cell_type": "code",
     "collapsed": false,
     "input": [
      "draw_tree.plot(x, orientation='h')"
     ],
     "language": "python",
     "metadata": {},
     "outputs": [
      {
       "output_type": "stream",
       "stream": "stdout",
       "text": [
        "(<ResidueShape square:2>, <function draw_square at 0x000000000A1B4198>)\n",
        "(<ResidueShape square:2>, <function draw_square at 0x000000000A1B4198>)\n",
        "(<ResidueShape circle:1>, <function draw_square at 0x000000000A1B4198>)\n",
        "(<ResidueShape circle:1>, <function draw_square at 0x000000000A1B4198>)\n",
        "(<ResidueShape square:2>, <function draw_square at 0x000000000A1B4198>)\n",
        "(<ResidueShape square:2>, <function draw_square at 0x000000000A1B4198>)\n",
        "(<ResidueShape circle:1>, <function draw_square at 0x000000000A1B4198>)\n",
        "(<ResidueShape circle:1>, <function draw_square at 0x000000000A1B4198>)\n",
        "(<ResidueShape circle:1>, <function draw_square at 0x000000000A1B4198>)\n",
        "(<ResidueShape top_bisected_diamond:7>, <function draw_square at 0x000000000A1B4198>)\n",
        "(<ResidueShape left_bisected_diamond:8>, <function draw_square at 0x000000000A1B4198>)\n",
        "(<ResidueShape circle:1>, <function draw_square at 0x000000000A1B4198>)\n",
        "(-4.5, 0.0, 0.0, 0.75)\n"
       ]
      },
      {
       "metadata": {},
       "output_type": "pyout",
       "prompt_number": 24,
       "text": [
        "(RES\n",
        " 1b:b-dglc-HEX-1:5\n",
        " 2s:n-acetyl\n",
        " LIN\n",
        " 1:1d(2+1)2n: x=0.5 mod=0, <matplotlib.axes.AxesSubplot at 0xb841710>)"
       ]
      },
      {
       "metadata": {},
       "output_type": "display_data",
       "png": "[encoded data removed]",
       "text": [
        "<matplotlib.figure.Figure at 0xb8d05c0>"
       ]
      }
     ],
     "prompt_number": 24
    },
    {
     "cell_type": "code",
     "collapsed": false,
     "input": [
      "x"
     ],
     "language": "python",
     "metadata": {},
     "outputs": [
      {
       "metadata": {},
       "output_type": "pyout",
       "prompt_number": 7,
       "text": [
        "RES\n",
        "1b:b-dglc-HEX-1:5\n",
        "2s:n-acetyl\n",
        "3b:b-dglc-HEX-1:5\n",
        "4s:n-acetyl\n",
        "5b:b-dman-HEX-1:5\n",
        "6b:a-dman-HEX-1:5\n",
        "7b:b-dglc-HEX-1:5\n",
        "8s:n-acetyl\n",
        "9b:b-dglc-HEX-1:5\n",
        "10s:n-acetyl\n",
        "11b:b-dman-HEX-1:5\n",
        "12b:a-dman-HEX-1:5\n",
        "13b:b-dglc-HEX-1:5|6:a\n",
        "14b:a-dman-HEX-1:5\n",
        "15b:a-dman-HEX-1:5\n",
        "LIN\n",
        "1:1d(2+1)2n\n",
        "2:1o(4+1)3d\n",
        "3:3d(2+1)4n\n",
        "4:3o(4+1)5d\n",
        "5:5o(3+1)6d\n",
        "6:5o(6+1)15d\n",
        "7:6o(3+1)7d\n",
        "8:7d(2+1)8n\n",
        "9:7o(4+1)9d\n",
        "10:9d(2+1)10n\n",
        "11:9o(4+1)11d\n",
        "12:11o(3+1)14d\n",
        "13:11o(6+1)12d\n",
        "14:12o(4+1)13d"
       ]
      }
     ],
     "prompt_number": 7
    },
    {
     "cell_type": "code",
     "collapsed": false,
     "input": [],
     "language": "python",
     "metadata": {},
     "outputs": []
    }
   ],
   "metadata": {}
  }
 ]
}