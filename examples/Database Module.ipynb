{
 "cells": [
  {
   "cell_type": "code",
   "execution_count": 1,
   "metadata": {
    "collapsed": true
   },
   "outputs": [],
   "source": [
    "import pygly2\n",
    "from pygly2.io import glycoct\n",
    "from pygly2.structure import (glycan, monosaccharide, substituent)\n",
    "\n",
    "from pygly2 import plot\n",
    "from pygly2.algorithms import subtree_search, database\n",
    "\n",
    "%matplotlib inline"
   ]
  },
  {
   "cell_type": "code",
   "execution_count": 2,
   "metadata": {
    "collapsed": false
   },
   "outputs": [],
   "source": [
    "human_glycomedb = database.RecordDatabase(\"./human_glycomedb.db\")\n",
    "#print(len(human_glycomedb))"
   ]
  },
  {
   "cell_type": "code",
   "execution_count": 3,
   "metadata": {
    "collapsed": true
   },
   "outputs": [],
   "source": [
    "n_linked_core = pygly2.glycans[\"N-Linked Core\"]"
   ]
  },
  {
   "cell_type": "code",
   "execution_count": 5,
   "metadata": {
    "collapsed": false,
    "scrolled": false
   },
   "outputs": [
    {
     "ename": "OperationalError",
     "evalue": "no such column: is_n_glycan",
     "output_type": "error",
     "traceback": [
      "\u001b[1;31m---------------------------------------------------------------------------\u001b[0m",
      "\u001b[1;31mOperationalError\u001b[0m                          Traceback (most recent call last)",
      "\u001b[1;32m<ipython-input-5-f1e2743a142c>\u001b[0m in \u001b[0;36m<module>\u001b[1;34m()\u001b[0m\n\u001b[0;32m      1\u001b[0m \u001b[0mx\u001b[0m\u001b[1;33m=\u001b[0m\u001b[0mhuman_glycomedb\u001b[0m\u001b[1;33m[\u001b[0m\u001b[1;36m1\u001b[0m\u001b[1;33m]\u001b[0m\u001b[1;33m\u001b[0m\u001b[0m\n\u001b[1;32m----> 2\u001b[1;33m \u001b[0mx\u001b[0m\u001b[1;33m.\u001b[0m\u001b[0mupdate\u001b[0m\u001b[1;33m(\u001b[0m\u001b[1;33m)\u001b[0m\u001b[1;33m\u001b[0m\u001b[0m\n\u001b[0m",
      "\u001b[1;32md:\\dropbox\\glycomicssandbox\\pygly2\\pygly2\\algorithms\\database.py\u001b[0m in \u001b[0;36mupdate\u001b[1;34m(self, mass_params, inherits, commit, *args, **kwargs)\u001b[0m\n\u001b[0;32m    481\u001b[0m         \u001b[0minherits\u001b[0m \u001b[1;33m=\u001b[0m \u001b[0minherits\u001b[0m \u001b[1;32mor\u001b[0m \u001b[0m_resolve_metadata_mro\u001b[0m\u001b[1;33m(\u001b[0m\u001b[0mself\u001b[0m\u001b[1;33m.\u001b[0m\u001b[0m__class__\u001b[0m\u001b[1;33m)\u001b[0m\u001b[1;33m\u001b[0m\u001b[0m\n\u001b[0;32m    482\u001b[0m         \u001b[0mkwargs\u001b[0m\u001b[1;33m[\u001b[0m\u001b[1;34m'inherits'\u001b[0m\u001b[1;33m]\u001b[0m \u001b[1;33m=\u001b[0m \u001b[0minherits\u001b[0m\u001b[1;33m\u001b[0m\u001b[0m\n\u001b[1;32m--> 483\u001b[1;33m         \u001b[0msuper\u001b[0m\u001b[1;33m(\u001b[0m\u001b[0mGlycanRecord\u001b[0m\u001b[1;33m,\u001b[0m \u001b[0mself\u001b[0m\u001b[1;33m)\u001b[0m\u001b[1;33m.\u001b[0m\u001b[0mupdate\u001b[0m\u001b[1;33m(\u001b[0m\u001b[0mmass_params\u001b[0m\u001b[1;33m=\u001b[0m\u001b[0mmass_params\u001b[0m\u001b[1;33m,\u001b[0m \u001b[1;33m*\u001b[0m\u001b[0margs\u001b[0m\u001b[1;33m,\u001b[0m \u001b[1;33m**\u001b[0m\u001b[0mkwargs\u001b[0m\u001b[1;33m)\u001b[0m\u001b[1;33m\u001b[0m\u001b[0m\n\u001b[0m\u001b[0;32m    484\u001b[0m \u001b[1;33m\u001b[0m\u001b[0m\n\u001b[0;32m    485\u001b[0m     \u001b[1;32mdef\u001b[0m \u001b[0mcollect_ext_data\u001b[0m\u001b[1;33m(\u001b[0m\u001b[0mself\u001b[0m\u001b[1;33m)\u001b[0m\u001b[1;33m:\u001b[0m\u001b[1;33m\u001b[0m\u001b[0m\n",
      "\u001b[1;32md:\\dropbox\\glycomicssandbox\\pygly2\\pygly2\\algorithms\\database.py\u001b[0m in \u001b[0;36mupdate\u001b[1;34m(self, mass_params, inherits, commit, *args, **kwargs)\u001b[0m\n\u001b[0;32m    310\u001b[0m         \u001b[0mcur\u001b[0m \u001b[1;33m=\u001b[0m \u001b[0mself\u001b[0m\u001b[1;33m.\u001b[0m\u001b[0m_bound_db\u001b[0m\u001b[1;33m.\u001b[0m\u001b[0mcursor\u001b[0m\u001b[1;33m(\u001b[0m\u001b[1;33m)\u001b[0m\u001b[1;33m\u001b[0m\u001b[0m\n\u001b[0;32m    311\u001b[0m         \u001b[1;32mfor\u001b[0m \u001b[0mstmt\u001b[0m \u001b[1;32min\u001b[0m \u001b[0mself\u001b[0m\u001b[1;33m.\u001b[0m\u001b[0mto_update_sql\u001b[0m\u001b[1;33m(\u001b[0m\u001b[0mmass_params\u001b[0m\u001b[1;33m=\u001b[0m\u001b[0mmass_params\u001b[0m\u001b[1;33m,\u001b[0m \u001b[0minherits\u001b[0m\u001b[1;33m=\u001b[0m\u001b[0minherits\u001b[0m\u001b[1;33m)\u001b[0m\u001b[1;33m:\u001b[0m\u001b[1;33m\u001b[0m\u001b[0m\n\u001b[1;32m--> 312\u001b[1;33m             \u001b[0mcur\u001b[0m\u001b[1;33m.\u001b[0m\u001b[0mexecute\u001b[0m\u001b[1;33m(\u001b[0m\u001b[0mstmt\u001b[0m\u001b[1;33m)\u001b[0m\u001b[1;33m\u001b[0m\u001b[0m\n\u001b[0m\u001b[0;32m    313\u001b[0m         \u001b[1;32mif\u001b[0m \u001b[0mcommit\u001b[0m\u001b[1;33m:\u001b[0m\u001b[1;33m\u001b[0m\u001b[0m\n\u001b[0;32m    314\u001b[0m             \u001b[0mcur\u001b[0m\u001b[1;33m.\u001b[0m\u001b[0mcommit\u001b[0m\u001b[1;33m(\u001b[0m\u001b[1;33m)\u001b[0m\u001b[1;33m\u001b[0m\u001b[0m\n",
      "\u001b[1;31mOperationalError\u001b[0m: no such column: is_n_glycan"
     ]
    }
   ],
   "source": [
    "x=human_glycomedb[1]\n",
    "x.update()"
   ]
  },
  {
   "cell_type": "code",
   "execution_count": 5,
   "metadata": {
    "collapsed": false
   },
   "outputs": [],
   "source": [
    "human_n_glycan = database.RecordDatabase(\"./human_n_glycan.db\")\n",
    "human_n_glycan.apply_schema()\n",
    "assert len(human_n_glycan) == 0\n",
    "for record in human_glycomedb:\n",
    "    if subtree_search.subtree_of(n_linked_core, record.structure):\n",
    "        human_n_glycan.create(record.structure)"
   ]
  },
  {
   "cell_type": "code",
   "execution_count": 6,
   "metadata": {
    "collapsed": false
   },
   "outputs": [],
   "source": [
    "human_n_glycan.apply_indices()"
   ]
  },
  {
   "cell_type": "code",
   "execution_count": 12,
   "metadata": {
    "collapsed": false
   },
   "outputs": [
    {
     "name": "stdout",
     "output_type": "stream",
     "text": [
      "1640.59217185\n"
     ]
    },
    {
     "data": {
      "text/plain": [
       "[{'composition': u'Hex:5 HexNAc:4',\n",
       "  'glycan_id': 1,\n",
       "  'is_n_glycan': 1,\n",
       "  'mass': 1640.59217185,\n",
       "  'structure': u\"ccopy_reg\\n_reconstructor\\np1\\n(cpygly2.algorithms.database\\nGlycanRecord\\np2\\nc__builtin__\\nobject\\np3\\nNtRp4\\n(dp5\\nS'dbxref'\\np6\\n(lp7\\nsS'aglycones'\\np8\\n(lp9\\nsS'motifs'\\np10\\n(lp11\\nsS'taxa'\\np12\\n(lp13\\nsS'id'\\np14\\nI1\\nsS'structure'\\np15\\ng1\\n(cpygly2.structure.glycan\\nGlycan\\np16\\ng3\\nNtRp17\\n(dp18\\nS'branch_lengths'\\np19\\n(dp20\\nS'a'\\nI5\\nsS'b'\\nI5\\nsS'-'\\nI5\\nssS'index'\\np21\\n(lp22\\ng1\\n(cpygly2.structure.monosaccharide\\nMonosaccharide\\np23\\ng3\\nNtRp24\\n(dp25\\nS'modifications'\\np26\\ng1\\n(cpygly2.utils.multimap\\nOrderedMultiMap\\np27\\ng3\\nNtRp28\\n(dp29\\nS'key_order'\\np30\\n(lp31\\nsS'contents'\\np32\\nccollections\\ndefaultdict\\np33\\n(c__builtin__\\nlist\\np34\\ntRp35\\nsbsS'_reducing_end'\\np36\\nNsS'_configuration'\\np37\\n(g1\\n(cpygly2.utils.enum\\nEnumValue\\np38\\ng3\\nNtRp39\\n(dp40\\nS'group'\\np41\\ncpygly2.structure.constants\\nConfiguration\\np42\\nsS'name'\\np43\\nS'd'\\nsS'value'\\np44\\nI1\\nsS'names'\\np45\\nc__builtin__\\nset\\np46\\n((lp47\\nS'd'\\natRp48\\nsbtp49\\nsS'links'\\np50\\ng1\\n(g27\\ng3\\nNtRp51\\n(dp52\\ng30\\n(lp53\\nI4\\nasg32\\ng33\\n(g34\\ntRp54\\nI4\\n(lp55\\ng1\\n(cpygly2.structure.link\\nLink\\np56\\ng3\\nNtRp57\\n(dp58\\nS'parent'\\np59\\ng24\\nsS'parent_loss'\\np60\\ncpygly2.composition.ccomposition\\nCComposition\\np61\\n((lp62\\nS'H'\\natRp63\\n(dp64\\nS'H'\\nI1\\nsbsS'label'\\np65\\nS'-1'\\np66\\nsS'child_position'\\np67\\nI1\\nsS'child'\\np68\\ng1\\n(g23\\ng3\\nNtRp69\\n(dp70\\ng26\\ng1\\n(g27\\ng3\\nNtRp71\\n(dp72\\ng30\\n(lp73\\nsg32\\ng33\\n(g34\\ntRp74\\nsbsg36\\nNsg37\\n(g39\\ntp75\\nsg50\\ng1\\n(g27\\ng3\\nNtRp76\\n(dp77\\ng30\\n(lp78\\nI1\\naI4\\nasg32\\ng33\\n(g34\\ntRp79\\nI1\\n(lp80\\ng57\\nasI4\\n(lp81\\ng1\\n(g56\\ng3\\nNtRp82\\n(dp83\\ng59\\ng69\\nsg60\\ng63\\nsg65\\nS'-2'\\np84\\nsg67\\nI1\\nsg68\\ng1\\n(g23\\ng3\\nNtRp85\\n(dp86\\ng26\\ng1\\n(g27\\ng3\\nNtRp87\\n(dp88\\ng30\\n(lp89\\nsg32\\ng33\\n(g34\\ntRp90\\nsbsg36\\nNsg37\\n(g39\\ntp91\\nsg50\\ng1\\n(g27\\ng3\\nNtRp92\\n(dp93\\ng30\\n(lp94\\nI1\\naI3\\naI6\\nasg32\\ng33\\n(g34\\ntRp95\\nI1\\n(lp96\\ng82\\nasI3\\n(lp97\\ng1\\n(g56\\ng3\\nNtRp98\\n(dp99\\ng59\\ng85\\nsg60\\ng63\\nsg65\\nS'a3'\\np100\\nsg67\\nI1\\nsg68\\ng1\\n(g23\\ng3\\nNtRp101\\n(dp102\\ng26\\ng1\\n(g27\\ng3\\nNtRp103\\n(dp104\\ng30\\n(lp105\\nsg32\\ng33\\n(g34\\ntRp106\\nsbsg36\\nNsg37\\n(g39\\ntp107\\nsg50\\ng1\\n(g27\\ng3\\nNtRp108\\n(dp109\\ng30\\n(lp110\\nI1\\naI2\\nasg32\\ng33\\n(g34\\ntRp111\\nI1\\n(lp112\\ng98\\nasI2\\n(lp113\\ng1\\n(g56\\ng3\\nNtRp114\\n(dp115\\ng59\\ng101\\nsg60\\ng63\\nsg65\\nS'a4'\\np116\\nsg67\\nI1\\nsg68\\ng1\\n(g23\\ng3\\nNtRp117\\n(dp118\\ng26\\ng1\\n(g27\\ng3\\nNtRp119\\n(dp120\\ng30\\n(lp121\\nsg32\\ng33\\n(g34\\ntRp122\\nsbsg36\\nNsg37\\n(g39\\ntp123\\nsg50\\ng1\\n(g27\\ng3\\nNtRp124\\n(dp125\\ng30\\n(lp126\\nI1\\naI4\\nasg32\\ng33\\n(g34\\ntRp127\\nI1\\n(lp128\\ng114\\nasI4\\n(lp129\\ng1\\n(g56\\ng3\\nNtRp130\\n(dp131\\ng59\\ng117\\nsg60\\ng63\\nsg65\\nS'a5'\\np132\\nsg67\\nI1\\nsg68\\ng1\\n(g23\\ng3\\nNtRp133\\n(dp134\\ng26\\ng1\\n(g27\\ng3\\nNtRp135\\n(dp136\\ng30\\n(lp137\\nsg32\\ng33\\n(g34\\ntRp138\\nsbsg36\\nNsg37\\n(g39\\ntp139\\nsg50\\ng1\\n(g27\\ng3\\nNtRp140\\n(dp141\\ng30\\n(lp142\\nI1\\nasg32\\ng33\\n(g34\\ntRp143\\nI1\\n(lp144\\ng130\\nassbsS'ring_start'\\np145\\nI1\\nsS'substituent_links'\\np146\\ng1\\n(g27\\ng3\\nNtRp147\\n(dp148\\ng30\\n(lp149\\nsg32\\ng33\\n(g34\\ntRp150\\nsbsS'_stem'\\np151\\n(g1\\n(g38\\ng3\\nNtRp152\\n(dp153\\ng41\\ncpygly2.structure.constants\\nStem\\np154\\nsg43\\nS'gal'\\np155\\nsg44\\nI14\\nsg45\\ng46\\n((lp156\\ng155\\natRp157\\nsbtp158\\nsS'_superclass'\\np159\\ng1\\n(g38\\ng3\\nNtRp160\\n(dp161\\ng41\\ncpygly2.structure.constants\\nSuperClass\\np162\\nsg43\\nS'hex'\\np163\\nsg44\\nI6\\nsg45\\ng46\\n((lp164\\nS'Hexose'\\np165\\nag163\\natRp166\\nsbsS'_anomer'\\np167\\ng1\\n(g38\\ng3\\nNtRp168\\n(dp169\\ng41\\ncpygly2.structure.constants\\nAnomer\\np170\\nsg43\\nS'beta'\\np171\\nsg44\\nI2\\nsg45\\ng46\\n((lp172\\ng171\\natRp173\\nsbsS'composition'\\np174\\ng61\\n((lp175\\nS'H'\\naS'C'\\naS'O'\\natRp176\\n(dp177\\nS'H'\\nI11\\nsS'C'\\nI6\\nsS'O'\\nI5\\nsbsS'ring_end'\\np178\\nI5\\nsg14\\nI9\\nsbsS'parent_position'\\np179\\nI4\\nsg14\\nI8\\nsS'child_loss'\\np180\\ng61\\n((lp181\\nS'H'\\naS'O'\\natRp182\\n(dp183\\nS'H'\\nI1\\nsS'O'\\nI1\\nsbsbassbsg145\\nI1\\nsg146\\ng1\\n(g27\\ng3\\nNtRp184\\n(dp185\\ng30\\n(lp186\\nI2\\nasg32\\ng33\\n(g34\\ntRp187\\nI2\\n(lp188\\ng1\\n(g56\\ng3\\nNtRp189\\n(dp190\\ng59\\ng117\\nsg60\\ng182\\nsg65\\nNsg67\\nI1\\nsg68\\ng1\\n(cpygly2.structure.substituent\\nSubstituent\\np191\\ng3\\nNtRp192\\n(dp193\\ng14\\nL193689842633364870653173904768534660865L\\nsg174\\ng61\\n((lp194\\nS'H'\\naS'C'\\naS'O'\\naS'N'\\natRp195\\n(dp196\\nS'H'\\nI4\\nsS'C'\\nI2\\nsS'O'\\nI1\\nsS'N'\\nI1\\nsbsg50\\ng1\\n(g27\\ng3\\nNtRp197\\n(dp198\\ng30\\n(lp199\\nI1\\nasg32\\ng33\\n(g34\\ntRp200\\nI1\\n(lp201\\ng189\\nassbsS'_name'\\np202\\nS'n_acetyl'\\np203\\nsbsg179\\nI2\\nsg14\\nS'7'\\nsg180\\ng61\\n((lp204\\nS'H'\\natRp205\\n(dp206\\nS'H'\\nI1\\nsbsbassbsg151\\n(g1\\n(g38\\ng3\\nNtRp207\\n(dp208\\ng41\\ng154\\nsg43\\nS'glc'\\np209\\nsg44\\nI7\\nsg45\\ng46\\n((lp210\\ng209\\natRp211\\nsbtp212\\nsg159\\ng160\\nsg167\\ng168\\nsg174\\ng61\\n((lp213\\nS'H'\\naS'C'\\naS'O'\\natRp214\\n(dp215\\nS'H'\\nI9\\nsS'C'\\nI6\\nsS'O'\\nI4\\nsbsg178\\nI5\\nsg14\\nI8\\nsbsg179\\nI2\\nsg14\\nI7\\nsg180\\ng182\\nsbassbsg145\\nI1\\nsg146\\ng1\\n(g27\\ng3\\nNtRp216\\n(dp217\\ng30\\n(lp218\\nsg32\\ng33\\n(g34\\ntRp219\\nsbsg151\\n(g1\\n(g38\\ng3\\nNtRp220\\n(dp221\\ng41\\ng154\\nsg43\\nS'man'\\np222\\nsg44\\nI8\\nsg45\\ng46\\n((lp223\\ng222\\natRp224\\nsbtp225\\nsg159\\ng160\\nsg167\\ng1\\n(g38\\ng3\\nNtRp226\\n(dp227\\ng41\\ng170\\nsg43\\nS'alpha'\\np228\\nsg44\\nI1\\nsg45\\ng46\\n((lp229\\ng228\\natRp230\\nsbsg174\\ng61\\n((lp231\\nS'H'\\naS'C'\\naS'O'\\natRp232\\n(dp233\\nS'H'\\nI10\\nsS'C'\\nI6\\nsS'O'\\nI5\\nsbsg178\\nI5\\nsg14\\nI7\\nsbsg179\\nI3\\nsg14\\nI3\\nsg180\\ng182\\nsbasI6\\n(lp234\\ng1\\n(g56\\ng3\\nNtRp235\\n(dp236\\ng59\\ng85\\nsg60\\ng63\\nsg65\\nS'b3'\\np237\\nsg67\\nI1\\nsg68\\ng1\\n(g23\\ng3\\nNtRp238\\n(dp239\\ng26\\ng1\\n(g27\\ng3\\nNtRp240\\n(dp241\\ng30\\n(lp242\\nsg32\\ng33\\n(g34\\ntRp243\\nsbsg36\\nNsg37\\n(g39\\ntp244\\nsg50\\ng1\\n(g27\\ng3\\nNtRp245\\n(dp246\\ng30\\n(lp247\\nI1\\naI2\\nasg32\\ng33\\n(g34\\ntRp248\\nI1\\n(lp249\\ng235\\nasI2\\n(lp250\\ng1\\n(g56\\ng3\\nNtRp251\\n(dp252\\ng59\\ng238\\nsg60\\ng63\\nsg65\\nS'b4'\\np253\\nsg67\\nI1\\nsg68\\ng1\\n(g23\\ng3\\nNtRp254\\n(dp255\\ng26\\ng1\\n(g27\\ng3\\nNtRp256\\n(dp257\\ng30\\n(lp258\\nsg32\\ng33\\n(g34\\ntRp259\\nsbsg36\\nNsg37\\n(g39\\ntp260\\nsg50\\ng1\\n(g27\\ng3\\nNtRp261\\n(dp262\\ng30\\n(lp263\\nI1\\naI4\\nasg32\\ng33\\n(g34\\ntRp264\\nI1\\n(lp265\\ng251\\nasI4\\n(lp266\\ng1\\n(g56\\ng3\\nNtRp267\\n(dp268\\ng59\\ng254\\nsg60\\ng63\\nsg65\\nS'b5'\\np269\\nsg67\\nI1\\nsg68\\ng1\\n(g23\\ng3\\nNtRp270\\n(dp271\\ng26\\ng1\\n(g27\\ng3\\nNtRp272\\n(dp273\\ng30\\n(lp274\\nsg32\\ng33\\n(g34\\ntRp275\\nsbsg36\\nNsg37\\n(g39\\ntp276\\nsg50\\ng1\\n(g27\\ng3\\nNtRp277\\n(dp278\\ng30\\n(lp279\\nI1\\nasg32\\ng33\\n(g34\\ntRp280\\nI1\\n(lp281\\ng267\\nassbsg145\\nI1\\nsg146\\ng1\\n(g27\\ng3\\nNtRp282\\n(dp283\\ng30\\n(lp284\\nsg32\\ng33\\n(g34\\ntRp285\\nsbsg151\\n(g152\\ntp286\\nsg159\\ng160\\nsg167\\ng168\\nsg174\\ng61\\n((lp287\\nS'H'\\naS'C'\\naS'O'\\natRp288\\n(dp289\\nS'H'\\nI11\\nsS'C'\\nI6\\nsS'O'\\nI5\\nsbsg178\\nI5\\nsg14\\nI6\\nsbsg179\\nI4\\nsg14\\nI6\\nsg180\\ng182\\nsbassbsg145\\nI1\\nsg146\\ng1\\n(g27\\ng3\\nNtRp290\\n(dp291\\ng30\\n(lp292\\nI2\\nasg32\\ng33\\n(g34\\ntRp293\\nI2\\n(lp294\\ng1\\n(g56\\ng3\\nNtRp295\\n(dp296\\ng59\\ng254\\nsg60\\ng182\\nsg65\\nNsg67\\nI1\\nsg68\\ng1\\n(g191\\ng3\\nNtRp297\\n(dp298\\ng14\\nL213631816253011963449982771141240276507L\\nsg174\\ng61\\n((lp299\\nS'H'\\naS'C'\\naS'O'\\naS'N'\\natRp300\\n(dp301\\nS'H'\\nI4\\nsS'C'\\nI2\\nsS'O'\\nI1\\nsS'N'\\nI1\\nsbsg50\\ng1\\n(g27\\ng3\\nNtRp302\\n(dp303\\ng30\\n(lp304\\nI1\\nasg32\\ng33\\n(g34\\ntRp305\\nI1\\n(lp306\\ng295\\nassbsg202\\nS'n_acetyl'\\np307\\nsbsg179\\nI2\\nsg14\\nS'11'\\np308\\nsg180\\ng205\\nsbassbsg151\\n(g207\\ntp309\\nsg159\\ng160\\nsg167\\ng168\\nsg174\\ng61\\n((lp310\\nS'H'\\naS'C'\\naS'O'\\natRp311\\n(dp312\\nS'H'\\nI9\\nsS'C'\\nI6\\nsS'O'\\nI4\\nsbsg178\\nI5\\nsg14\\nI5\\nsbsg179\\nI2\\nsg14\\nI5\\nsg180\\ng182\\nsbassbsg145\\nI1\\nsg146\\ng1\\n(g27\\ng3\\nNtRp313\\n(dp314\\ng30\\n(lp315\\nsg32\\ng33\\n(g34\\ntRp316\\nsbsg151\\n(g220\\ntp317\\nsg159\\ng160\\nsg167\\ng226\\nsg174\\ng61\\n((lp318\\nS'H'\\naS'C'\\naS'O'\\natRp319\\n(dp320\\nS'H'\\nI10\\nsS'C'\\nI6\\nsS'O'\\nI5\\nsbsg178\\nI5\\nsg14\\nI4\\nsbsg179\\nI6\\nsg14\\nI4\\nsg180\\ng182\\nsbassbsg145\\nI1\\nsg146\\ng1\\n(g27\\ng3\\nNtRp321\\n(dp322\\ng30\\n(lp323\\nsg32\\ng33\\n(g34\\ntRp324\\nsbsg151\\n(g220\\ntp325\\nsg159\\ng160\\nsg167\\ng168\\nsg174\\ng61\\n((lp326\\nS'H'\\naS'C'\\naS'O'\\natRp327\\n(dp328\\nS'H'\\nI9\\nsS'C'\\nI6\\nsS'O'\\nI5\\nsbsg178\\nI5\\nsg14\\nI3\\nsbsg179\\nI4\\nsg14\\nI2\\nsg180\\ng182\\nsbassbsg145\\nI1\\nsg146\\ng1\\n(g27\\ng3\\nNtRp329\\n(dp330\\ng30\\n(lp331\\nI2\\nasg32\\ng33\\n(g34\\ntRp332\\nI2\\n(lp333\\ng1\\n(g56\\ng3\\nNtRp334\\n(dp335\\ng59\\ng69\\nsg60\\ng182\\nsg65\\nNsg67\\nI1\\nsg68\\ng1\\n(g191\\ng3\\nNtRp336\\n(dp337\\ng14\\nL216845451426227008935692825578323362842L\\nsg174\\ng61\\n((lp338\\nS'H'\\naS'C'\\naS'O'\\naS'N'\\natRp339\\n(dp340\\nS'H'\\nI4\\nsS'C'\\nI2\\nsS'O'\\nI1\\nsS'N'\\nI1\\nsbsg50\\ng1\\n(g27\\ng3\\nNtRp341\\n(dp342\\ng30\\n(lp343\\nI1\\nasg32\\ng33\\n(g34\\ntRp344\\nI1\\n(lp345\\ng334\\nassbsg202\\nS'n_acetyl'\\np346\\nsbsg179\\nI2\\nsg14\\nS'3'\\nsg180\\ng205\\nsbassbsg151\\n(g207\\ntp347\\nsg159\\ng160\\nsg167\\ng168\\nsg174\\ng61\\n((lp348\\nS'H'\\naS'C'\\naS'O'\\natRp349\\n(dp350\\nS'H'\\nI9\\nsS'C'\\nI6\\nsS'O'\\nI4\\nsbsg178\\nI5\\nsg14\\nI2\\nsbsg179\\nI4\\nsg14\\nI1\\nsg180\\ng182\\nsbassbsg145\\nI1\\nsg146\\ng1\\n(g27\\ng3\\nNtRp351\\n(dp352\\ng30\\n(lp353\\nI2\\nasg32\\ng33\\n(g34\\ntRp354\\nI2\\n(lp355\\ng1\\n(g56\\ng3\\nNtRp356\\n(dp357\\ng59\\ng24\\nsg60\\ng182\\nsg65\\nNsg67\\nI1\\nsg68\\ng1\\n(g191\\ng3\\nNtRp358\\n(dp359\\ng14\\nL80322145525121336642997498494007742519L\\nsg174\\ng61\\n((lp360\\nS'H'\\naS'C'\\naS'O'\\naS'N'\\natRp361\\n(dp362\\nS'H'\\nI4\\nsS'C'\\nI2\\nsS'O'\\nI1\\nsS'N'\\nI1\\nsbsg50\\ng1\\n(g27\\ng3\\nNtRp363\\n(dp364\\ng30\\n(lp365\\nI1\\nasg32\\ng33\\n(g34\\ntRp366\\nI1\\n(lp367\\ng356\\nassbsg202\\nS'n_acetyl'\\np368\\nsbsg179\\nI2\\nsg14\\nS'1'\\nsg180\\ng205\\nsbassbsg151\\n(g207\\ntp369\\nsg159\\ng160\\nsg167\\ng168\\nsg174\\ng61\\n((lp370\\nS'H'\\naS'C'\\naS'O'\\natRp371\\n(dp372\\nS'H'\\nI10\\nsS'C'\\nI6\\nsS'O'\\nI5\\nsbsg178\\nI5\\nsg14\\nI1\\nsbag69\\nag85\\nag238\\nag254\\nag270\\nag101\\nag117\\nag133\\nasS'_root'\\np373\\ng24\\nsS'link_index'\\np374\\n(lp375\\ng57\\nag82\\nag98\\nag235\\nag251\\nag267\\nag114\\nag130\\nasbsb.\"}]"
      ]
     },
     "execution_count": 12,
     "metadata": {},
     "output_type": "execute_result"
    }
   ],
   "source": [
    "human_n_glycan = database.RecordDatabase(\"./human_n_glycan.db\")\n",
    "x=human_n_glycan[1]\n",
    "print(x.mass())\n",
    "x.update(mass_params=())\n",
    "map(dict, human_n_glycan.execute(\"select * from {table_name} where glycan_id = \" + str(x.id) + \";\"))"
   ]
  },
  {
   "cell_type": "code",
   "execution_count": 34,
   "metadata": {
    "collapsed": false
   },
   "outputs": [
    {
     "data": {
      "text/plain": [
       "(RES 1b:b-dglc-HEX-1:5 2s:n-acetyl LIN 1:1d(2+1)2n: x=0.8125 mod=0,\n",
       " <matplotlib.axes._subplots.AxesSubplot at 0xa352e48>)"
      ]
     },
     "execution_count": 34,
     "metadata": {},
     "output_type": "execute_result"
    },
    {
     "data": {
      "image/png": "[encoded data removed]",
      "text/plain": [
       "<matplotlib.figure.Figure at 0xa33dac8>"
      ]
     },
     "metadata": {},
     "output_type": "display_data"
    }
   ],
   "source": [
    "plot.plot(human_n_glycan[14], scale=0.13)"
   ]
  },
  {
   "cell_type": "code",
   "execution_count": 4,
   "metadata": {
    "collapsed": true
   },
   "outputs": [],
   "source": [
    "z = _"
   ]
  },
  {
   "cell_type": "code",
   "execution_count": 10,
   "metadata": {
    "collapsed": false
   },
   "outputs": [
    {
     "data": {
      "text/plain": [
       "(341.213028439, 341.213028438858)"
      ]
     },
     "execution_count": 10,
     "metadata": {},
     "output_type": "execute_result"
    }
   ],
   "source": []
  },
  {
   "cell_type": "code",
   "execution_count": 3,
   "metadata": {
    "collapsed": false
   },
   "outputs": [
    {
     "ename": "NameError",
     "evalue": "name 'human_n_glycan' is not defined",
     "output_type": "error",
     "traceback": [
      "\u001b[1;31m---------------------------------------------------------------------------\u001b[0m",
      "\u001b[1;31mNameError\u001b[0m                                 Traceback (most recent call last)",
      "\u001b[1;32m<ipython-input-3-b640e8a36a6e>\u001b[0m in \u001b[0;36m<module>\u001b[1;34m()\u001b[0m\n\u001b[1;32m----> 1\u001b[1;33m \u001b[0mlen\u001b[0m\u001b[1;33m(\u001b[0m\u001b[0mhuman_n_glycan\u001b[0m\u001b[1;33m)\u001b[0m\u001b[1;33m\u001b[0m\u001b[0m\n\u001b[0m",
      "\u001b[1;31mNameError\u001b[0m: name 'human_n_glycan' is not defined"
     ]
    }
   ],
   "source": [
    "len(human_n_glycan)"
   ]
  },
  {
   "cell_type": "code",
   "execution_count": 10,
   "metadata": {
    "collapsed": false
   },
   "outputs": [
    {
     "data": {
      "text/plain": [
       "Composition({'H': 171, 'C': 104, 'O': 76, 'N': 7})"
      ]
     },
     "execution_count": 10,
     "metadata": {},
     "output_type": "execute_result"
    }
   ],
   "source": [
    "human_n_glycan[14].structure.total_composition()"
   ]
  },
  {
   "cell_type": "code",
   "execution_count": 11,
   "metadata": {
    "collapsed": false
   },
   "outputs": [],
   "source": [
    "#human_n_glycan.record_type.find_like_composition(human_n_glycan, record=human_n_glycan[14])"
   ]
  },
  {
   "cell_type": "code",
   "execution_count": 12,
   "metadata": {
    "collapsed": false
   },
   "outputs": [],
   "source": [
    "monosaccharide.debug = True"
   ]
  },
  {
   "cell_type": "code",
   "execution_count": 3,
   "metadata": {
    "collapsed": false
   },
   "outputs": [],
   "source": []
  },
  {
   "cell_type": "code",
   "execution_count": null,
   "metadata": {
    "collapsed": false
   },
   "outputs": [],
   "source": []
  },
  {
   "cell_type": "code",
   "execution_count": null,
   "metadata": {
    "collapsed": false
   },
   "outputs": [],
   "source": []
  },
  {
   "cell_type": "code",
   "execution_count": null,
   "metadata": {
    "collapsed": false
   },
   "outputs": [],
   "source": []
  },
  {
   "cell_type": "code",
   "execution_count": null,
   "metadata": {
    "collapsed": false
   },
   "outputs": [],
   "source": []
  },
  {
   "cell_type": "code",
   "execution_count": 4,
   "metadata": {
    "collapsed": false
   },
   "outputs": [
    {
     "ename": "TypeError",
     "evalue": "to_update_sql() got multiple values for keyword argument 'inherits'",
     "output_type": "error",
     "traceback": [
      "\u001b[1;31m---------------------------------------------------------------------------\u001b[0m",
      "\u001b[1;31mTypeError\u001b[0m                                 Traceback (most recent call last)",
      "\u001b[1;32m<ipython-input-4-fcb0c6e134ae>\u001b[0m in \u001b[0;36m<module>\u001b[1;34m()\u001b[0m\n\u001b[1;32m----> 1\u001b[1;33m \u001b[0mx\u001b[0m\u001b[1;33m.\u001b[0m\u001b[0mupdate\u001b[0m\u001b[1;33m(\u001b[0m\u001b[1;33m)\u001b[0m\u001b[1;33m\u001b[0m\u001b[0m\n\u001b[0m",
      "\u001b[1;32md:\\dropbox\\glycomicssandbox\\pygly2\\pygly2\\algorithms\\database.pyc\u001b[0m in \u001b[0;36mupdate\u001b[1;34m(self, mass_params, inherits, commit, *args, **kwargs)\u001b[0m\n\u001b[0;32m    481\u001b[0m         \u001b[0minherits\u001b[0m \u001b[1;33m=\u001b[0m \u001b[0minherits\u001b[0m \u001b[1;32mor\u001b[0m \u001b[0m_resolve_metadata_mro\u001b[0m\u001b[1;33m(\u001b[0m\u001b[0mself\u001b[0m\u001b[1;33m.\u001b[0m\u001b[0m__class__\u001b[0m\u001b[1;33m)\u001b[0m\u001b[1;33m\u001b[0m\u001b[0m\n\u001b[0;32m    482\u001b[0m         \u001b[0mkwargs\u001b[0m\u001b[1;33m[\u001b[0m\u001b[1;34m'inherits'\u001b[0m\u001b[1;33m]\u001b[0m \u001b[1;33m=\u001b[0m \u001b[0minherits\u001b[0m\u001b[1;33m\u001b[0m\u001b[0m\n\u001b[1;32m--> 483\u001b[1;33m         \u001b[0msuper\u001b[0m\u001b[1;33m(\u001b[0m\u001b[0mGlycanRecord\u001b[0m\u001b[1;33m,\u001b[0m \u001b[0mself\u001b[0m\u001b[1;33m)\u001b[0m\u001b[1;33m.\u001b[0m\u001b[0mupdate\u001b[0m\u001b[1;33m(\u001b[0m\u001b[0mmass_params\u001b[0m\u001b[1;33m=\u001b[0m\u001b[0mmass_params\u001b[0m\u001b[1;33m,\u001b[0m \u001b[1;33m*\u001b[0m\u001b[0margs\u001b[0m\u001b[1;33m,\u001b[0m \u001b[1;33m**\u001b[0m\u001b[0mkwargs\u001b[0m\u001b[1;33m)\u001b[0m\u001b[1;33m\u001b[0m\u001b[0m\n\u001b[0m\u001b[0;32m    484\u001b[0m \u001b[1;33m\u001b[0m\u001b[0m\n\u001b[0;32m    485\u001b[0m     \u001b[1;32mdef\u001b[0m \u001b[0mcollect_ext_data\u001b[0m\u001b[1;33m(\u001b[0m\u001b[0mself\u001b[0m\u001b[1;33m)\u001b[0m\u001b[1;33m:\u001b[0m\u001b[1;33m\u001b[0m\u001b[0m\n",
      "\u001b[1;32md:\\dropbox\\glycomicssandbox\\pygly2\\pygly2\\algorithms\\database.pyc\u001b[0m in \u001b[0;36mupdate\u001b[1;34m(self, mass_params, inherits, commit, *args, **kwargs)\u001b[0m\n\u001b[0;32m    309\u001b[0m             \u001b[1;32mraise\u001b[0m \u001b[0mValueError\u001b[0m\u001b[1;33m(\u001b[0m\u001b[1;34m\"Cannot commit an unbound record\"\u001b[0m\u001b[1;33m)\u001b[0m\u001b[1;33m\u001b[0m\u001b[0m\n\u001b[0;32m    310\u001b[0m         \u001b[0mcur\u001b[0m \u001b[1;33m=\u001b[0m \u001b[0mself\u001b[0m\u001b[1;33m.\u001b[0m\u001b[0m_bound_db\u001b[0m\u001b[1;33m.\u001b[0m\u001b[0mcursor\u001b[0m\u001b[1;33m(\u001b[0m\u001b[1;33m)\u001b[0m\u001b[1;33m\u001b[0m\u001b[0m\n\u001b[1;32m--> 311\u001b[1;33m         \u001b[1;32mfor\u001b[0m \u001b[0mstmt\u001b[0m \u001b[1;32min\u001b[0m \u001b[0mself\u001b[0m\u001b[1;33m.\u001b[0m\u001b[0mto_update_sql\u001b[0m\u001b[1;33m(\u001b[0m\u001b[0mmass_params\u001b[0m\u001b[1;33m=\u001b[0m\u001b[0mmass_params\u001b[0m\u001b[1;33m,\u001b[0m \u001b[0minherits\u001b[0m\u001b[1;33m=\u001b[0m\u001b[0minherits\u001b[0m\u001b[1;33m)\u001b[0m\u001b[1;33m:\u001b[0m\u001b[1;33m\u001b[0m\u001b[0m\n\u001b[0m\u001b[0;32m    312\u001b[0m             \u001b[0mcur\u001b[0m\u001b[1;33m.\u001b[0m\u001b[0mexecute\u001b[0m\u001b[1;33m(\u001b[0m\u001b[0mstmt\u001b[0m\u001b[1;33m)\u001b[0m\u001b[1;33m\u001b[0m\u001b[0m\n\u001b[0;32m    313\u001b[0m         \u001b[1;32mif\u001b[0m \u001b[0mcommit\u001b[0m\u001b[1;33m:\u001b[0m\u001b[1;33m\u001b[0m\u001b[0m\n",
      "\u001b[1;32md:\\dropbox\\glycomicssandbox\\pygly2\\pygly2\\algorithms\\database.pyc\u001b[0m in \u001b[0;36mto_update_sql\u001b[1;34m(self, *args, **kwargs)\u001b[0m\n\u001b[0;32m    476\u001b[0m         \u001b[0minherits\u001b[0m \u001b[1;33m=\u001b[0m \u001b[0minherits\u001b[0m \u001b[1;32mor\u001b[0m \u001b[0m_resolve_metadata_mro\u001b[0m\u001b[1;33m(\u001b[0m\u001b[0mself\u001b[0m\u001b[1;33m.\u001b[0m\u001b[0m__class__\u001b[0m\u001b[1;33m)\u001b[0m\u001b[1;33m\u001b[0m\u001b[0m\n\u001b[0;32m    477\u001b[0m         \u001b[0mkwargs\u001b[0m\u001b[1;33m[\u001b[0m\u001b[1;34m'inherits'\u001b[0m\u001b[1;33m]\u001b[0m \u001b[1;33m=\u001b[0m \u001b[0minherits\u001b[0m\u001b[1;33m\u001b[0m\u001b[0m\n\u001b[1;32m--> 478\u001b[1;33m         \u001b[1;32mreturn\u001b[0m \u001b[0msuper\u001b[0m\u001b[1;33m(\u001b[0m\u001b[0mGlycanRecord\u001b[0m\u001b[1;33m,\u001b[0m \u001b[0mself\u001b[0m\u001b[1;33m)\u001b[0m\u001b[1;33m.\u001b[0m\u001b[0mto_update_sql\u001b[0m\u001b[1;33m(\u001b[0m\u001b[1;33m*\u001b[0m\u001b[0margs\u001b[0m\u001b[1;33m,\u001b[0m \u001b[0minherits\u001b[0m\u001b[1;33m=\u001b[0m\u001b[0minherits\u001b[0m\u001b[1;33m,\u001b[0m \u001b[1;33m**\u001b[0m\u001b[0mkwargs\u001b[0m\u001b[1;33m)\u001b[0m\u001b[1;33m\u001b[0m\u001b[0m\n\u001b[0m\u001b[0;32m    479\u001b[0m \u001b[1;33m\u001b[0m\u001b[0m\n\u001b[0;32m    480\u001b[0m     \u001b[1;32mdef\u001b[0m \u001b[0mupdate\u001b[0m\u001b[1;33m(\u001b[0m\u001b[0mself\u001b[0m\u001b[1;33m,\u001b[0m \u001b[0mmass_params\u001b[0m\u001b[1;33m=\u001b[0m\u001b[0mNone\u001b[0m\u001b[1;33m,\u001b[0m \u001b[0minherits\u001b[0m\u001b[1;33m=\u001b[0m\u001b[0mNone\u001b[0m\u001b[1;33m,\u001b[0m \u001b[0mcommit\u001b[0m\u001b[1;33m=\u001b[0m\u001b[0mTrue\u001b[0m\u001b[1;33m,\u001b[0m \u001b[1;33m*\u001b[0m\u001b[0margs\u001b[0m\u001b[1;33m,\u001b[0m \u001b[1;33m**\u001b[0m\u001b[0mkwargs\u001b[0m\u001b[1;33m)\u001b[0m\u001b[1;33m:\u001b[0m\u001b[1;33m\u001b[0m\u001b[0m\n",
      "\u001b[1;31mTypeError\u001b[0m: to_update_sql() got multiple values for keyword argument 'inherits'"
     ]
    }
   ],
   "source": [
    "x.update()"
   ]
  },
  {
   "cell_type": "code",
   "execution_count": null,
   "metadata": {
    "collapsed": false
   },
   "outputs": [],
   "source": []
  },
  {
   "cell_type": "code",
   "execution_count": null,
   "metadata": {
    "collapsed": false
   },
   "outputs": [],
   "source": []
  },
  {
   "cell_type": "code",
   "execution_count": null,
   "metadata": {
    "collapsed": false
   },
   "outputs": [],
   "source": []
  },
  {
   "cell_type": "code",
   "execution_count": null,
   "metadata": {
    "collapsed": true
   },
   "outputs": [],
   "source": []
  }
 ],
 "metadata": {
  "kernelspec": {
   "display_name": "Python 2",
   "language": "python",
   "name": "python2"
  },
  "language_info": {
   "codemirror_mode": {
    "name": "ipython",
    "version": 2
   },
   "file_extension": ".py",
   "mimetype": "text/x-python",
   "name": "python",
   "nbconvert_exporter": "python",
   "pygments_lexer": "ipython2",
   "version": "2.7.5"
  }
 },
 "nbformat": 4,
 "nbformat_minor": 0
}
