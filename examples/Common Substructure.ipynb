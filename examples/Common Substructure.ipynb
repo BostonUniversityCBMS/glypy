{
 "metadata": {
  "name": "",
  "signature": "sha256:773b8754fb12faac2365717ced01236a65a16eb7f9dcbadccc4cfaf09265bda8"
 },
 "nbformat": 3,
 "nbformat_minor": 0,
 "worksheets": [
  {
   "cells": [
    {
     "cell_type": "markdown",
     "metadata": {},
     "source": [
      "## Common Substructure\n",
      "Given a set of different tree structures, it would be useful to know if they share a common structure, which might be used to classify them. The subtree containment problem is complex, and there are many flavors of it. Here is an example of a naive algorithm that exhaustively searches the space of all 4-way branch fragmentations to isolate a given path."
     ]
    },
    {
     "cell_type": "code",
     "collapsed": false,
     "input": [
      "import pygly2\n",
      "from pygly2.algorithms import subtree_search\n",
      "from pygly2.io import glycomedb\n",
      "from pygly2.plot import plot\n",
      "Glycan = pygly2.Glycan\n",
      "\n",
      "import matplotlib.pyplot as plt\n",
      "%matplotlib inline"
     ],
     "language": "python",
     "metadata": {},
     "outputs": [],
     "prompt_number": 1
    },
    {
     "cell_type": "markdown",
     "metadata": {},
     "source": [
      "Here are two glycans that are topologically equal. Their maximum common substructure is their intact structure."
     ]
    },
    {
     "cell_type": "code",
     "collapsed": false,
     "input": [
      "glycan_a = glycomedb.get(224)\n",
      "glycan_b = glycomedb.get(222)\n",
      "plot(glycan_a)\n",
      "plot(glycan_b)"
     ],
     "language": "python",
     "metadata": {},
     "outputs": [
      {
       "metadata": {},
       "output_type": "pyout",
       "prompt_number": 2,
       "text": [
        "(RES\n",
        " 1b:b-dglc-HEX-1:5\n",
        " 2s:n-acetyl\n",
        " LIN\n",
        " 1:1d(2+1)2n: x=0.75 mod=0, <matplotlib.axes.AxesSubplot at 0x9ecea20>)"
       ]
      },
      {
       "metadata": {},
       "output_type": "display_data",
       "png": "[encoded data removed]",
       "text": [
        "<matplotlib.figure.Figure at 0x9e3bdd8>"
       ]
      },
      {
       "metadata": {},
       "output_type": "display_data",
       "png": "[encoded data removed]",
       "text": [
        "<matplotlib.figure.Figure at 0x9ee4470>"
       ]
      }
     ],
     "prompt_number": 2
    },
    {
     "cell_type": "markdown",
     "metadata": {},
     "source": [
      "This glycan is different from the first two by one branch, and is not topologically equal to them. They still share a large amount of common substructure"
     ]
    },
    {
     "cell_type": "code",
     "collapsed": false,
     "input": [
      "glycan_d = glycomedb.get(221)\n",
      "plot(glycan_d)\n",
      "print(glycan_d == glycan_b)\n",
      "print(glycan_d == glycan_a)\n",
      "print(glycan_a == glycan_b)"
     ],
     "language": "python",
     "metadata": {},
     "outputs": [
      {
       "output_type": "stream",
       "stream": "stdout",
       "text": [
        "False\n",
        "False\n",
        "True\n"
       ]
      },
      {
       "metadata": {},
       "output_type": "display_data",
       "png": "[encoded data removed]",
       "text": [
        "<matplotlib.figure.Figure at 0x2a4157f0>"
       ]
      }
     ],
     "prompt_number": 5
    },
    {
     "cell_type": "code",
     "collapsed": false,
     "input": [
      "s1 = subtree_search.exhaustive_subtrees(glycan_d, glycan_a)\n",
      "print(s1)\n",
      "plot(s1[0].subtree)"
     ],
     "language": "python",
     "metadata": {},
     "outputs": [
      {
       "output_type": "stream",
       "stream": "stdout",
       "text": [
        "[SubtreeMatchRecord(12)]\n"
       ]
      },
      {
       "metadata": {},
       "output_type": "pyout",
       "prompt_number": 6,
       "text": [
        "(RES\n",
        " 1b:b-dglc-HEX-1:5\n",
        " 2s:n-acetyl\n",
        " LIN\n",
        " 1:1d(2+1)2n: x=0.375 mod=0, <matplotlib.axes.AxesSubplot at 0x5a4d9898>)"
       ]
      },
      {
       "metadata": {},
       "output_type": "display_data",
       "png": "[encoded data removed]",
       "text": [
        "<matplotlib.figure.Figure at 0x5a14c828>"
       ]
      }
     ],
     "prompt_number": 6
    },
    {
     "cell_type": "code",
     "collapsed": false,
     "input": [
      "s2 = subtree_search.exhaustive_subtrees(glycan_b, glycan_a)\n",
      "print(s2)\n",
      "plot(s2[0].subtree)"
     ],
     "language": "python",
     "metadata": {},
     "outputs": [
      {
       "output_type": "stream",
       "stream": "stdout",
       "text": [
        "[SubtreeMatchRecord(14)]\n"
       ]
      },
      {
       "metadata": {},
       "output_type": "pyout",
       "prompt_number": 7,
       "text": [
        "(RES\n",
        " 1b:b-dglc-HEX-1:5\n",
        " 2s:n-acetyl\n",
        " LIN\n",
        " 1:1d(2+1)2n: x=0.75 mod=0, <matplotlib.axes.AxesSubplot at 0x5c35e710>)"
       ]
      },
      {
       "metadata": {},
       "output_type": "display_data",
       "png": "[encoded data removed]",
       "text": [
        "<matplotlib.figure.Figure at 0x5ec6aba8>"
       ]
      }
     ],
     "prompt_number": 7
    },
    {
     "cell_type": "code",
     "collapsed": false,
     "input": [
      "s3 = subtree_search.exhaustive_subtrees(pygly2.glycans[\"N-Linked Core\"], glycan_a)\n",
      "print(s3)\n",
      "plot(s3[0].subtree)"
     ],
     "language": "python",
     "metadata": {},
     "outputs": [
      {
       "output_type": "stream",
       "stream": "stdout",
       "text": [
        "[SubtreeMatchRecord(5)]\n"
       ]
      },
      {
       "metadata": {},
       "output_type": "pyout",
       "prompt_number": 8,
       "text": [
        "(RES\n",
        " 1b:b-dglc-HEX-1:5\n",
        " 2s:n-acetyl\n",
        " LIN\n",
        " 1:1d(2+1)2n: x=0.25 mod=0, <matplotlib.axes.AxesSubplot at 0x50d44160>)"
       ]
      },
      {
       "metadata": {},
       "output_type": "display_data",
       "png": "[encoded data removed]",
       "text": [
        "<matplotlib.figure.Figure at 0x5e445cc0>"
       ]
      }
     ],
     "prompt_number": 8
    },
    {
     "cell_type": "markdown",
     "metadata": {},
     "source": [
      "The common substructures are the maximum common between the two query structures. However, it runs upwards of quartic time as each successive cleavage must be considered. "
     ]
    }
   ],
   "metadata": {}
  }
 ]
}