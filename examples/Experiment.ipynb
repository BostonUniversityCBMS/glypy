{
 "cells": [
  {
   "cell_type": "code",
   "execution_count": 1,
   "metadata": {
    "collapsed": true
   },
   "outputs": [],
   "source": [
    "import itertools\n",
    "import os\n",
    "import collections\n",
    "import sys\n",
    "import traceback\n",
    "import matplotlib\n",
    "import pygly2\n",
    "from pygly2 import monosaccharides\n",
    "from pygly2.composition import Composition, composition_transform\n",
    "from pygly2.structure import (glycan, monosaccharide, substituent,\n",
    "                              Anomer, Configuration, SuperClass,\n",
    "                              Substituent, Glycan, Monosaccharide,\n",
    "                              crossring_fragments)\n",
    "from pygly2.io.nomenclature import identity\n",
    "from pygly2.io import glycoct, glycomedb\n",
    "from pygly2 import plot\n",
    "from pygly2.algorithms import subtree_search, similarity, database\n",
    "import tests\n",
    "%matplotlib inline\n",
    "\n",
    "derivatize = composition_transform.derivatize\n",
    "_human_db_path = '../test_data/human_rec.db'"
   ]
  },
  {
   "cell_type": "code",
   "execution_count": 2,
   "metadata": {
    "collapsed": false
   },
   "outputs": [],
   "source": [
    "big = tests.load(\"common_glycan\")\n",
    "broad = tests.load(\"broad_n_glycan\")\n",
    "branchy = tests.load(\"branchy_glycan\")\n",
    "complicated = tests.load(\"complex_glycan\")\n",
    "human_db = database.RecordDatabase(_human_db_path)\n",
    "ncore = pygly2.glycans[\"N-Linked Core\"]"
   ]
  },
  {
   "cell_type": "code",
   "execution_count": 3,
   "metadata": {
    "collapsed": false
   },
   "outputs": [],
   "source": [
    "default_fragmentation_parameters = {\n",
    "    \"kind\": \"BYX\",\n",
    "    \"max_cleavages\": 2,\n",
    "    \"average\": False,\n",
    "    \"charge\": 0\n",
    "}\n",
    "\n",
    "def extract_fragments(record, fragmentation_parameters=None):\n",
    "    fragmentation_parameters = fragmentation_parameters or default_fragmentation_parameters\n",
    "    container = collections.defaultdict(dict)\n",
    "    for frag in record.structure.fragments(**fragmentation_parameters):\n",
    "        container[frag.kind][tuple(frag.included_nodes)] = frag\n",
    "    return container\n",
    "\n",
    "class FragmentedGlycanRecord(database.GlycanRecord):\n",
    "    extract_fragments = staticmethod(extract_fragments)\n"
   ]
  },
  {
   "cell_type": "code",
   "execution_count": 4,
   "metadata": {
    "collapsed": false,
    "scrolled": false
   },
   "outputs": [],
   "source": [
    "os.remove(\"./human_n_glycan2.db\")\n",
    "ndb = database.RecordDatabase(\"./human_n_glycan2.db\")\n",
    "for record in human_db:\n",
    "    if subtree_search.subtree_of(ncore, record.structure, exact=False):\n",
    "        ndb.create(record.structure)\n"
   ]
  },
  {
   "cell_type": "code",
   "execution_count": 5,
   "metadata": {
    "collapsed": false
   },
   "outputs": [],
   "source": [
    "ndb.apply_indices()\n",
    "ndb.commit()"
   ]
  },
  {
   "cell_type": "code",
   "execution_count": 6,
   "metadata": {
    "collapsed": false
   },
   "outputs": [
    {
     "data": {
      "text/plain": [
       "820"
      ]
     },
     "execution_count": 6,
     "metadata": {},
     "output_type": "execute_result"
    }
   ],
   "source": [
    "len(ndb)"
   ]
  },
  {
   "cell_type": "code",
   "execution_count": 23,
   "metadata": {
    "collapsed": false
   },
   "outputs": [
    {
     "data": {
      "image/png": "[encoded data removed]",
      "text/plain": [
       "<matplotlib.figure.Figure at 0x77392940>"
      ]
     },
     "metadata": {},
     "output_type": "display_data"
    }
   ],
   "source": [
    "plot.enumerate_tree(*plot.plot(ndb[819]))"
   ]
  },
  {
   "cell_type": "code",
   "execution_count": 26,
   "metadata": {
    "collapsed": false
   },
   "outputs": [
    {
     "data": {
      "text/plain": [
       "RES 1b:a-dgal-HEX-1:5|6:d"
      ]
     },
     "execution_count": 26,
     "metadata": {},
     "output_type": "execute_result"
    }
   ],
   "source": [
    "ndb[819].structure.get(13)"
   ]
  },
  {
   "cell_type": "code",
   "execution_count": 32,
   "metadata": {
    "collapsed": false
   },
   "outputs": [
    {
     "data": {
      "image/png": "[encoded data removed]",
      "text/plain": [
       "<matplotlib.figure.Figure at 0x779194e0>"
      ]
     },
     "metadata": {},
     "output_type": "display_data"
    }
   ],
   "source": [
    "c = glycoct.loads('''RES\n",
    "1b:b-dglc-HEX-1:5\n",
    "2s:n-acetyl\n",
    "3b:b-dglc-HEX-1:5\n",
    "4s:n-acetyl\n",
    "5b:b-dman-HEX-1:5\n",
    "6b:a-dman-HEX-1:5\n",
    "7b:a-dman-HEX-1:5\n",
    "8b:a-dman-HEX-1:5\n",
    "9b:a-dman-HEX-1:5\n",
    "10b:b-dglc-HEX-1:5\n",
    "11s:n-acetyl\n",
    "12b:b-dgal-HEX-1:5\n",
    "13b:b-dglc-HEX-1:5\n",
    "14s:n-acetyl\n",
    "15b:b-dglc-HEX-1:5\n",
    "16s:n-acetyl\n",
    "17b:a-lgal-HEX-1:5|6:d\n",
    "LIN\n",
    "1:1d(2+1)2n\n",
    "2:1o(4+1)3d\n",
    "3:1o(6+1)17d\n",
    "4:3d(2+1)4n\n",
    "5:3o(4+1)5d\n",
    "6:5o(3+1)9d\n",
    "7:5o(4+1)15d\n",
    "8:5o(6+1)6d\n",
    "9:6o(3+1)8d\n",
    "10:6o(6+1)7d\n",
    "11:9o(2+1)13d\n",
    "12:9o(4+1)10d\n",
    "13:10d(2+1)11n\n",
    "14:10o(4+1)12d\n",
    "15:13d(2+1)14n\n",
    "16:15d(2+1)16n''').next()\n",
    "\n",
    "dtree, ax = plot.plot(c)"
   ]
  },
  {
   "cell_type": "code",
   "execution_count": 16,
   "metadata": {
    "collapsed": false
   },
   "outputs": [
    {
     "data": {
      "text/plain": [
       "1"
      ]
     },
     "execution_count": 16,
     "metadata": {},
     "output_type": "execute_result"
    }
   ],
   "source": [
    "subtree_search.subtree_of(ncore, c, exact=False)"
   ]
  },
  {
   "cell_type": "code",
   "execution_count": 29,
   "metadata": {
    "collapsed": false
   },
   "outputs": [
    {
     "data": {
      "text/plain": [
       "(4, 5)"
      ]
     },
     "execution_count": 29,
     "metadata": {},
     "output_type": "execute_result"
    }
   ],
   "source": [
    "similarity.monosaccharide_similarity(pygly2.monosaccharides.Fuc, ndb[819].structure.get(13))"
   ]
  },
  {
   "cell_type": "code",
   "execution_count": 30,
   "metadata": {
    "collapsed": false
   },
   "outputs": [
    {
     "data": {
      "text/plain": [
       "RES\n",
       "1b:b-dglc-HEX-1:5\n",
       "2s:n-acetyl\n",
       "3b:b-dglc-HEX-1:5\n",
       "4s:n-acetyl\n",
       "5b:b-dman-HEX-1:5\n",
       "6b:a-dman-HEX-1:5\n",
       "7b:b-dglc-HEX-1:5\n",
       "8s:n-acetyl\n",
       "9b:b-dgal-HEX-1:5\n",
       "10b:a-dgro-dgal-NON-2:6|1:a|2:keto|3:d\n",
       "11s:n-acetyl\n",
       "12b:b-dglc-HEX-1:5\n",
       "13s:n-acetyl\n",
       "14b:a-dman-HEX-1:5\n",
       "15b:b-dglc-HEX-1:5\n",
       "16s:n-acetyl\n",
       "17b:b-dgal-HEX-1:5\n",
       "18b:a-dgro-dgal-NON-2:6|1:a|2:keto|3:d\n",
       "19s:n-acetyl\n",
       "20b:a-dgal-HEX-1:5|6:d\n",
       "LIN\n",
       "1:1d(2+1)2n\n",
       "2:1o(4+1)3d\n",
       "3:1o(6+1)20d\n",
       "4:3d(2+1)4n\n",
       "5:3o(4+1)5d\n",
       "6:5o(3+1)14d\n",
       "7:5o(4+1)12d\n",
       "8:5o(6+1)6d\n",
       "9:6o(2+1)7d\n",
       "10:7d(2+1)8n\n",
       "11:7o(4+1)9d\n",
       "12:9o(6+2)10d\n",
       "13:10d(5+1)11n\n",
       "14:12d(2+1)13n\n",
       "15:14o(2+1)15d\n",
       "16:15d(2+1)16n\n",
       "17:15o(4+1)17d\n",
       "18:17o(6+2)18d\n",
       "19:18d(5+1)19n"
      ]
     },
     "execution_count": 30,
     "metadata": {},
     "output_type": "execute_result"
    }
   ],
   "source": [
    "ndb[819].structure.get"
   ]
  },
  {
   "cell_type": "code",
   "execution_count": 8,
   "metadata": {
    "collapsed": false
   },
   "outputs": [
    {
     "data": {
      "text/plain": [
       "[{'max(glycan_id)': 3043}]"
      ]
     },
     "execution_count": 8,
     "metadata": {},
     "output_type": "execute_result"
    }
   ],
   "source": [
    "map(dict, human_db.execute(\"select max(glycan_id) from {table_name};\"))"
   ]
  },
  {
   "cell_type": "code",
   "execution_count": 9,
   "metadata": {
    "collapsed": false
   },
   "outputs": [
    {
     "data": {
      "text/plain": [
       "1"
      ]
     },
     "execution_count": 9,
     "metadata": {},
     "output_type": "execute_result"
    }
   ],
   "source": [
    "subtree_search.subtree_of(pygly2.glycans['N-Linked Core'], ncore)"
   ]
  },
  {
   "cell_type": "code",
   "execution_count": 31,
   "metadata": {
    "collapsed": false
   },
   "outputs": [
    {
     "data": {
      "text/plain": [
       "RES 1b:a-lgal-HEX-1:5|6:d"
      ]
     },
     "execution_count": 31,
     "metadata": {},
     "output_type": "execute_result"
    }
   ],
   "source": [
    "pygly2.monosaccharides.Fuc"
   ]
  },
  {
   "cell_type": "code",
   "execution_count": 35,
   "metadata": {
    "collapsed": false,
    "scrolled": true
   },
   "outputs": [
    {
     "data": {
      "text/plain": [
       "True"
      ]
     },
     "execution_count": 35,
     "metadata": {},
     "output_type": "execute_result"
    }
   ],
   "source": [
    "ax.get_visible()"
   ]
  },
  {
   "cell_type": "code",
   "execution_count": 8,
   "metadata": {
    "collapsed": false
   },
   "outputs": [],
   "source": [
    "x=pygly2.composition.structure_composition.modification_compositions[\"aldi\"]"
   ]
  },
  {
   "cell_type": "code",
   "execution_count": 9,
   "metadata": {
    "collapsed": false
   },
   "outputs": [
    {
     "data": {
      "text/plain": [
       "Composition({'H': 2})"
      ]
     },
     "execution_count": 9,
     "metadata": {},
     "output_type": "execute_result"
    }
   ],
   "source": [
    "x.composition"
   ]
  },
  {
   "cell_type": "code",
   "execution_count": null,
   "metadata": {
    "collapsed": true
   },
   "outputs": [],
   "source": []
  }
 ],
 "metadata": {
  "kernelspec": {
   "display_name": "Python 2",
   "language": "python",
   "name": "python2"
  },
  "language_info": {
   "codemirror_mode": {
    "name": "ipython",
    "version": 2
   },
   "file_extension": ".py",
   "mimetype": "text/x-python",
   "name": "python",
   "nbconvert_exporter": "python",
   "pygments_lexer": "ipython2",
   "version": "2.7.5"
  }
 },
 "nbformat": 4,
 "nbformat_minor": 0
}
