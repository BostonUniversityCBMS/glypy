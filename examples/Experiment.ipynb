{
 "cells": [
  {
   "cell_type": "code",
   "execution_count": 1,
   "metadata": {
    "collapsed": false
   },
   "outputs": [],
   "source": [
    "import itertools\n",
    "import os\n",
    "import collections\n",
    "import sys\n",
    "import traceback\n",
    "import matplotlib\n",
    "import re\n",
    "import glypy\n",
    "from glypy import monosaccharides, glycans, motifs\n",
    "from glypy.composition import Composition, composition_transform, glycan_composition\n",
    "from glypy.structure import (glycan, monosaccharide, substituent,\n",
    "                              Anomer, Configuration, SuperClass,\n",
    "                              Substituent, Glycan, Monosaccharide,\n",
    "                              crossring_fragments)\n",
    "from glypy.io.nomenclature import identity\n",
    "from glypy.io import glycoct, glycomedb, iupac\n",
    "from glypy import plot\n",
    "from glypy.algorithms import subtree_search, similarity, database\n",
    "from glypy import tests\n",
    "%matplotlib inline\n",
    "from IPython.display import set_matplotlib_formats, display\n",
    "\n",
    "set_matplotlib_formats(\"svg\")\n",
    "\n",
    "import logging\n",
    "logging.basicConfig(level=\"DEBUG\")"
   ]
  },
  {
   "cell_type": "code",
   "execution_count": 2,
   "metadata": {
    "collapsed": false
   },
   "outputs": [
    {
     "data": {
      "text/plain": [
       "(RES 1b:x-dglc-HEX-x:x 2s:n-acetyl LIN 1:1d(2+1)2n: id=1  x=0.4875 mod=0,\n",
       " <matplotlib.axes._subplots.AxesSubplot at 0xb7b5ac8>)"
      ]
     },
     "execution_count": 2,
     "metadata": {},
     "output_type": "execute_result"
    },
    {
     "data": {
      "image/svg+xml": [
       "<?xml version=\"1.0\" encoding=\"utf-8\" standalone=\"no\"?>\n",
       "<!DOCTYPE svg PUBLIC \"-//W3C//DTD SVG 1.1//EN\"\n",
       "  \"http://www.w3.org/Graphics/SVG/1.1/DTD/svg11.dtd\">\n",
       "<!-- Created with matplotlib (http://matplotlib.org/) -->\n",
       "<svg height=\"237pt\" version=\"1.1\" viewBox=\"0 0 349 237\" width=\"349pt\" xmlns=\"http://www.w3.org/2000/svg\" xmlns:xlink=\"http://www.w3.org/1999/xlink\">\n",
       " <defs>\n",
       "  <style type=\"text/css\">\n",
       "*{stroke-linecap:butt;stroke-linejoin:round;}\n",
       "  </style>\n",
       " </defs>\n",
       " <g id=\"figure_1\">\n",
       "  <g id=\"patch_1\">\n",
       "   <path d=\"\n",
       "M0 237.6\n",
       "L349.2 237.6\n",
       "L349.2 0\n",
       "L0 0\n",
       "L0 237.6\" style=\"fill:none;\"/>\n",
       "  </g>\n",
       "  <g id=\"axes_1\">\n",
       "   <g id=\"patch_2\">\n",
       "    <path d=\"\n",
       "M7.2 230.4\n",
       "L342 230.4\n",
       "L342 7.2\n",
       "L7.2 7.2\n",
       "z\n",
       "\" style=\"fill:#ffffff;\"/>\n",
       "   </g>\n",
       "   <g id=\"patch_3\">\n",
       "    <path clip-path=\"url(#pf4e2211f04)\" d=\"\n",
       "M141.627 146.174\n",
       "L108.655 146.174\" style=\"fill:#0000ff;stroke:#000000;stroke-linejoin:miter;\"/>\n",
       "   </g>\n",
       "   <g id=\"patch_4\">\n",
       "    <path clip-path=\"url(#pf4e2211f04)\" d=\"\n",
       "M174.6 146.174\n",
       "L141.627 146.174\" style=\"fill:#0000ff;stroke:#000000;stroke-linejoin:miter;\"/>\n",
       "   </g>\n",
       "   <g id=\"patch_5\">\n",
       "    <path clip-path=\"url(#pf4e2211f04)\" d=\"\n",
       "M207.573 125.643\n",
       "L174.6 146.174\" style=\"fill:#0000ff;stroke:#000000;stroke-linejoin:miter;\"/>\n",
       "   </g>\n",
       "   <g id=\"patch_6\">\n",
       "    <path clip-path=\"url(#pf4e2211f04)\" d=\"\n",
       "M141.627 118.8\n",
       "L108.655 118.8\" style=\"fill:#0000ff;stroke:#000000;stroke-linejoin:miter;\"/>\n",
       "   </g>\n",
       "   <g id=\"patch_7\">\n",
       "    <path clip-path=\"url(#pf4e2211f04)\" d=\"\n",
       "M174.6 105.113\n",
       "L141.627 118.8\" style=\"fill:#0000ff;stroke:#000000;stroke-linejoin:miter;\"/>\n",
       "   </g>\n",
       "   <g id=\"patch_8\">\n",
       "    <path clip-path=\"url(#pf4e2211f04)\" d=\"\n",
       "M141.627 91.4264\n",
       "L108.655 91.4264\" style=\"fill:#0000ff;stroke:#000000;stroke-linejoin:miter;\"/>\n",
       "   </g>\n",
       "   <g id=\"patch_9\">\n",
       "    <path clip-path=\"url(#pf4e2211f04)\" d=\"\n",
       "M174.6 105.113\n",
       "L141.627 91.4264\" style=\"fill:#0000ff;stroke:#000000;stroke-linejoin:miter;\"/>\n",
       "   </g>\n",
       "   <g id=\"patch_10\">\n",
       "    <path clip-path=\"url(#pf4e2211f04)\" d=\"\n",
       "M207.573 125.643\n",
       "L174.6 105.113\" style=\"fill:#0000ff;stroke:#000000;stroke-linejoin:miter;\"/>\n",
       "   </g>\n",
       "   <g id=\"patch_11\">\n",
       "    <path clip-path=\"url(#pf4e2211f04)\" d=\"\n",
       "M240.545 125.643\n",
       "L207.573 125.643\" style=\"fill:#0000ff;stroke:#000000;stroke-linejoin:miter;\"/>\n",
       "   </g>\n",
       "   <g id=\"f682183189064fa593b8ec10637fe054-1-node\">\n",
       "    <path clip-path=\"url(#pf4e2211f04)\" d=\"\n",
       "M245.618 121.432\n",
       "L245.618 129.855\n",
       "L235.473 129.855\n",
       "L235.473 121.432\n",
       "L245.618 121.432\n",
       "z\n",
       "\" style=\"fill:#0000ff;stroke:#000000;stroke-linejoin:miter;\"/>\n",
       "   </g>\n",
       "   <g id=\"f682183189064fa593b8ec10637fe054-3-node\">\n",
       "    <path clip-path=\"url(#pf4e2211f04)\" d=\"\n",
       "M207.573 129.855\n",
       "C208.918 129.855 210.208 129.411 211.16 128.621\n",
       "C212.111 127.832 212.645 126.76 212.645 125.643\n",
       "C212.645 124.527 212.111 123.455 211.16 122.666\n",
       "C210.208 121.876 208.918 121.432 207.573 121.432\n",
       "C206.227 121.432 204.937 121.876 203.986 122.666\n",
       "C203.034 123.455 202.5 124.527 202.5 125.643\n",
       "C202.5 126.76 203.034 127.832 203.986 128.621\n",
       "C204.937 129.411 206.227 129.855 207.573 129.855\n",
       "z\n",
       "\" style=\"fill:#00c832;stroke:#000000;stroke-linejoin:miter;\"/>\n",
       "   </g>\n",
       "   <g id=\"f682183189064fa593b8ec10637fe054-11-node\">\n",
       "    <path clip-path=\"url(#pf4e2211f04)\" d=\"\n",
       "M174.6 150.385\n",
       "C175.945 150.385 177.236 149.941 178.187 149.151\n",
       "C179.138 148.362 179.673 147.29 179.673 146.174\n",
       "C179.673 145.057 179.138 143.985 178.187 143.196\n",
       "C177.236 142.406 175.945 141.962 174.6 141.962\n",
       "C173.255 141.962 171.964 142.406 171.013 143.196\n",
       "C170.062 143.985 169.527 145.057 169.527 146.174\n",
       "C169.527 147.29 170.062 148.362 171.013 149.151\n",
       "C171.964 149.941 173.255 150.385 174.6 150.385\n",
       "z\n",
       "\" style=\"fill:#00c832;stroke:#000000;stroke-linejoin:miter;\"/>\n",
       "   </g>\n",
       "   <g id=\"f682183189064fa593b8ec10637fe054-12-node\">\n",
       "    <path clip-path=\"url(#pf4e2211f04)\" d=\"\n",
       "M146.7 141.962\n",
       "L146.7 150.385\n",
       "L136.555 150.385\n",
       "L136.555 141.962\n",
       "L146.7 141.962\n",
       "z\n",
       "\" style=\"fill:#0000ff;stroke:#000000;stroke-linejoin:miter;\"/>\n",
       "   </g>\n",
       "   <g id=\"f682183189064fa593b8ec10637fe054-14-node\">\n",
       "    <path clip-path=\"url(#pf4e2211f04)\" d=\"\n",
       "M108.655 150.385\n",
       "C110 150.385 111.29 149.941 112.242 149.151\n",
       "C113.193 148.362 113.727 147.29 113.727 146.174\n",
       "C113.727 145.057 113.193 143.985 112.242 143.196\n",
       "C111.29 142.406 110 141.962 108.655 141.962\n",
       "C107.309 141.962 106.019 142.406 105.068 143.196\n",
       "C104.116 143.985 103.582 145.057 103.582 146.174\n",
       "C103.582 147.29 104.116 148.362 105.068 149.151\n",
       "C106.019 149.941 107.309 150.385 108.655 150.385\n",
       "z\n",
       "\" style=\"fill:#ffff00;stroke:#000000;stroke-linejoin:miter;\"/>\n",
       "   </g>\n",
       "   <g id=\"f682183189064fa593b8ec10637fe054-4-node\">\n",
       "    <path clip-path=\"url(#pf4e2211f04)\" d=\"\n",
       "M174.6 109.325\n",
       "C175.945 109.325 177.236 108.881 178.187 108.091\n",
       "C179.138 107.301 179.673 106.23 179.673 105.113\n",
       "C179.673 103.996 179.138 102.925 178.187 102.135\n",
       "C177.236 101.346 175.945 100.902 174.6 100.902\n",
       "C173.255 100.902 171.964 101.346 171.013 102.135\n",
       "C170.062 102.925 169.527 103.996 169.527 105.113\n",
       "C169.527 106.23 170.062 107.301 171.013 108.091\n",
       "C171.964 108.881 173.255 109.325 174.6 109.325\n",
       "z\n",
       "\" style=\"fill:#00c832;stroke:#000000;stroke-linejoin:miter;\"/>\n",
       "   </g>\n",
       "   <g id=\"f682183189064fa593b8ec10637fe054-8-node\">\n",
       "    <path clip-path=\"url(#pf4e2211f04)\" d=\"\n",
       "M146.7 114.589\n",
       "L146.7 123.011\n",
       "L136.555 123.011\n",
       "L136.555 114.589\n",
       "L146.7 114.589\n",
       "z\n",
       "\" style=\"fill:#0000ff;stroke:#000000;stroke-linejoin:miter;\"/>\n",
       "   </g>\n",
       "   <g id=\"f682183189064fa593b8ec10637fe054-10-node\">\n",
       "    <path clip-path=\"url(#pf4e2211f04)\" d=\"\n",
       "M108.655 123.011\n",
       "C110 123.011 111.29 122.568 112.242 121.778\n",
       "C113.193 120.988 113.727 119.917 113.727 118.8\n",
       "C113.727 117.683 113.193 116.612 112.242 115.822\n",
       "C111.29 115.032 110 114.589 108.655 114.589\n",
       "C107.309 114.589 106.019 115.032 105.068 115.822\n",
       "C104.116 116.612 103.582 117.683 103.582 118.8\n",
       "C103.582 119.917 104.116 120.988 105.068 121.778\n",
       "C106.019 122.568 107.309 123.011 108.655 123.011\n",
       "z\n",
       "\" style=\"fill:#ffff00;stroke:#000000;stroke-linejoin:miter;\"/>\n",
       "   </g>\n",
       "   <g id=\"f682183189064fa593b8ec10637fe054-5-node\">\n",
       "    <path clip-path=\"url(#pf4e2211f04)\" d=\"\n",
       "M146.7 87.2151\n",
       "L146.7 95.6377\n",
       "L136.555 95.6377\n",
       "L136.555 87.2151\n",
       "L146.7 87.2151\n",
       "z\n",
       "\" style=\"fill:#0000ff;stroke:#000000;stroke-linejoin:miter;\"/>\n",
       "   </g>\n",
       "   <g id=\"f682183189064fa593b8ec10637fe054-7-node\">\n",
       "    <path clip-path=\"url(#pf4e2211f04)\" d=\"\n",
       "M108.655 95.6377\n",
       "C110 95.6377 111.29 95.194 112.242 94.4043\n",
       "C113.193 93.6145 113.727 92.5433 113.727 91.4264\n",
       "C113.727 90.3096 113.193 89.2383 112.242 88.4486\n",
       "C111.29 87.6588 110 87.2151 108.655 87.2151\n",
       "C107.309 87.2151 106.019 87.6588 105.068 88.4486\n",
       "C104.116 89.2383 103.582 90.3096 103.582 91.4264\n",
       "C103.582 92.5433 104.116 93.6145 105.068 94.4043\n",
       "C106.019 95.194 107.309 95.6377 108.655 95.6377\n",
       "z\n",
       "\" style=\"fill:#ffff00;stroke:#000000;stroke-linejoin:miter;\"/>\n",
       "   </g>\n",
       "   <g id=\"patch_12\">\n",
       "    <path d=\"\n",
       "M7.2 7.2\n",
       "L342 7.2\" style=\"fill:none;stroke:#000000;stroke-linecap:square;stroke-linejoin:miter;\"/>\n",
       "   </g>\n",
       "   <g id=\"patch_13\">\n",
       "    <path d=\"\n",
       "M342 230.4\n",
       "L342 7.2\" style=\"fill:none;stroke:#000000;stroke-linecap:square;stroke-linejoin:miter;\"/>\n",
       "   </g>\n",
       "   <g id=\"patch_14\">\n",
       "    <path d=\"\n",
       "M7.2 230.4\n",
       "L342 230.4\" style=\"fill:none;stroke:#000000;stroke-linecap:square;stroke-linejoin:miter;\"/>\n",
       "   </g>\n",
       "   <g id=\"patch_15\">\n",
       "    <path d=\"\n",
       "M7.2 230.4\n",
       "L7.2 7.2\" style=\"fill:none;stroke:#000000;stroke-linecap:square;stroke-linejoin:miter;\"/>\n",
       "   </g>\n",
       "  </g>\n",
       " </g>\n",
       " <defs>\n",
       "  <clipPath id=\"pf4e2211f04\">\n",
       "   <rect height=\"223.2\" width=\"334.8\" x=\"7.2\" y=\"7.2\"/>\n",
       "  </clipPath>\n",
       " </defs>\n",
       "</svg>\n"
      ],
      "text/plain": [
       "<matplotlib.figure.Figure at 0x3ab29b0>"
      ]
     },
     "metadata": {},
     "output_type": "display_data"
    }
   ],
   "source": [
    "plot.plot(tests.load(\"branchy_glycan\"))"
   ]
  },
  {
   "cell_type": "code",
   "execution_count": 3,
   "metadata": {
    "collapsed": false
   },
   "outputs": [],
   "source": [
    "#db = database.dbopen(\"human_n_glycans_deduplicated.db\")"
   ]
  },
  {
   "cell_type": "code",
   "execution_count": 4,
   "metadata": {
    "collapsed": false
   },
   "outputs": [],
   "source": [
    "#compositions = map(glycan_composition.from_glycan, db)"
   ]
  },
  {
   "cell_type": "markdown",
   "metadata": {
    "collapsed": false
   },
   "source": [
    "for i, c in enumerate(compositions):\n",
    "    clone_coherent = c == c.clone()\n",
    "    try:\n",
    "        parse_coherent = c == glycan_composition.parse(c.serialize())\n",
    "    except KeyError, e:\n",
    "        print i, c, e\n",
    "    if clone_coherent and parse_coherent:\n",
    "        continue\n",
    "    if not clone_coherent:\n",
    "        print i, c, c.clone()\n",
    "    if not parse_coherent:\n",
    "        print i, c.serialize(), glycan_composition.parse(c.serialize()).serialize(),\\\n",
    "              c.mass(), glycan_composition.parse(c.serialize()).mass()"
   ]
  },
  {
   "cell_type": "code",
   "execution_count": 5,
   "metadata": {
    "collapsed": false
   },
   "outputs": [
    {
     "data": {
      "text/plain": [
       "MonosaccharideResidue(6-dHex)"
      ]
     },
     "execution_count": 5,
     "metadata": {},
     "output_type": "execute_result"
    }
   ],
   "source": [
    "m = glycan_composition._from_iupac_lite(\"Fuc\")\n",
    "glycan_composition.drop_stem(m)\n",
    "m"
   ]
  },
  {
   "cell_type": "code",
   "execution_count": 6,
   "metadata": {
    "collapsed": false
   },
   "outputs": [
    {
     "data": {
      "text/plain": [
       "16.03130012828"
      ]
     },
     "execution_count": 6,
     "metadata": {},
     "output_type": "execute_result"
    }
   ],
   "source": [
    "Substituent(\"methyl\").mass()"
   ]
  },
  {
   "cell_type": "code",
   "execution_count": 7,
   "metadata": {
    "collapsed": false
   },
   "outputs": [
    {
     "data": {
      "text/plain": [
       "18.0105646837"
      ]
     },
     "execution_count": 7,
     "metadata": {},
     "output_type": "execute_result"
    }
   ],
   "source": [
    "Composition(\"H2O\").mass"
   ]
  },
  {
   "cell_type": "code",
   "execution_count": 8,
   "metadata": {
    "collapsed": false
   },
   "outputs": [
    {
     "data": {
      "text/plain": [
       "<module 'glypy.structure.glycan' from 'd:\\dropbox\\glycomicssandbox\\glypy\\glypy\\structure\\glycan.pyc'>"
      ]
     },
     "execution_count": 8,
     "metadata": {},
     "output_type": "execute_result"
    }
   ],
   "source": [
    "reload(composition_transform)\n",
    "reload(glycan_composition)\n",
    "reload(glycan)\n"
   ]
  },
  {
   "cell_type": "code",
   "execution_count": 9,
   "metadata": {
    "collapsed": false
   },
   "outputs": [
    {
     "name": "stdout",
     "output_type": "stream",
     "text": [
      "Composition({'H': 92, 'C': 51, 'O': 26, 'N': 2}) Composition({'H': 92, 'C': 51, 'N': 2, 'O': 26, 'H+': 0}) Composition({'H': 92, 'C': 51, 'N': 2, 'O': 26, 'H+': 0})\n",
      "1148.59383107 1148.59383107 1148.59383107\n"
     ]
    }
   ],
   "source": [
    "ncore = composition_transform.derivatize(glycans[\"N-Linked Core\"], \"methyl\")\n",
    "ncore_comp = composition_transform.derivatize(glycan_composition.from_glycan(glycans[\"N-Linked Core\"]), 'methyl')\n",
    "derive_from = glycan_composition.from_glycan(ncore)\n",
    "print ncore.total_composition(), ncore_comp.total_composition(), derive_from.total_composition()\n",
    "print ncore.mass(), ncore_comp.mass(), derive_from.mass()"
   ]
  },
  {
   "cell_type": "code",
   "execution_count": 10,
   "metadata": {
    "collapsed": false
   },
   "outputs": [
    {
     "name": "stdout",
     "output_type": "stream",
     "text": [
      "Man Composition({'H': 16, 'C': 9, 'O': 5, 'H+': 0})\n",
      "Glc2NAc Composition({'H': 19, 'C': 11, 'N': 1, 'O': 5, 'H+': 0})\n"
     ]
    }
   ],
   "source": [
    "for k in derive_from:\n",
    "    print k, k.total_composition()"
   ]
  },
  {
   "cell_type": "code",
   "execution_count": 11,
   "metadata": {
    "collapsed": false
   },
   "outputs": [],
   "source": [
    "pman = composition_transform.derivatize(glycan_composition._from_iupac_lite(\"Man\"), \"methyl\")\n",
    "pglcnac = composition_transform.derivatize(glycan_composition._from_iupac_lite(\"Glc2NAc\"), \"methyl\")"
   ]
  },
  {
   "cell_type": "code",
   "execution_count": 12,
   "metadata": {
    "collapsed": false
   },
   "outputs": [
    {
     "data": {
      "text/plain": [
       "1102.5519662566198"
      ]
     },
     "execution_count": 12,
     "metadata": {},
     "output_type": "execute_result"
    }
   ],
   "source": [
    "gc = glycan_composition.GlycanComposition()\n",
    "gc[pman] = 3\n",
    "gc[pglcnac] = 2\n",
    "gc.mass() - Composition(\"H2O\").mass"
   ]
  },
  {
   "cell_type": "code",
   "execution_count": 13,
   "metadata": {
    "collapsed": false
   },
   "outputs": [
    {
     "data": {
      "text/plain": [
       "Composition({'H': 2, 'O': 1, 'H+': 0})"
      ]
     },
     "execution_count": 13,
     "metadata": {},
     "output_type": "execute_result"
    }
   ],
   "source": [
    "gc._composition_offset"
   ]
  },
  {
   "cell_type": "code",
   "execution_count": 14,
   "metadata": {
    "collapsed": false
   },
   "outputs": [
    {
     "data": {
      "text/plain": [
       "1130.5833353162998"
      ]
     },
     "execution_count": 14,
     "metadata": {},
     "output_type": "execute_result"
    }
   ],
   "source": [
    "(245.1263 * 2) + (204.0998 * 3) + 46.0419 - Composition(\"H2O\").mass"
   ]
  },
  {
   "cell_type": "code",
   "execution_count": null,
   "metadata": {
    "collapsed": false
   },
   "outputs": [],
   "source": []
  },
  {
   "cell_type": "code",
   "execution_count": 15,
   "metadata": {
    "collapsed": false
   },
   "outputs": [
    {
     "data": {
      "text/plain": [
       "Composition({'H': 6, 'C': 2, 'O': 1, 'H+': 0})"
      ]
     },
     "execution_count": 15,
     "metadata": {},
     "output_type": "execute_result"
    }
   ],
   "source": [
    "derive_from.composition_offset"
   ]
  },
  {
   "cell_type": "code",
   "execution_count": 16,
   "metadata": {
    "collapsed": false
   },
   "outputs": [
    {
     "data": {
      "text/plain": [
       "Composition({'H': 6, 'C': 2, 'O': 1, 'H+': 0})"
      ]
     },
     "execution_count": 16,
     "metadata": {},
     "output_type": "execute_result"
    }
   ],
   "source": [
    "ncore_comp.composition_offset"
   ]
  },
  {
   "cell_type": "code",
   "execution_count": 17,
   "metadata": {
    "collapsed": false
   },
   "outputs": [
    {
     "name": "stdout",
     "output_type": "stream",
     "text": [
      "Composition({'H': 58, 'C': 34, 'O': 26, 'N': 2}) Composition({'H': 58, 'C': 34, 'N': 2, 'O': 26, 'H+': 0})\n",
      "910.327779978 910.327779978\n"
     ]
    }
   ],
   "source": [
    "ncore = (glycans[\"N-Linked Core\"])\n",
    "derive_from2 = glycan_composition.from_glycan(ncore)\n",
    "print ncore.total_composition(), derive_from2.total_composition()\n",
    "print ncore.mass(), derive_from2.mass()"
   ]
  },
  {
   "cell_type": "code",
   "execution_count": 18,
   "metadata": {
    "collapsed": false
   },
   "outputs": [
    {
     "name": "stdout",
     "output_type": "stream",
     "text": [
      "Man Composition({'H': 10, 'C': 6, 'O': 5, 'H+': 0})\n",
      "Glc2NAc Composition({'H': 13, 'C': 8, 'N': 1, 'O': 5, 'H+': 0})\n"
     ]
    }
   ],
   "source": [
    "for k in derive_from2:\n",
    "    print k, k.total_composition()"
   ]
  },
  {
   "cell_type": "code",
   "execution_count": 19,
   "metadata": {
    "collapsed": false
   },
   "outputs": [
    {
     "data": {
      "text/plain": [
       "'{Man:3, Glc2NAc:2}'"
      ]
     },
     "execution_count": 19,
     "metadata": {},
     "output_type": "execute_result"
    }
   ],
   "source": [
    "derive_from.serialize()"
   ]
  },
  {
   "cell_type": "code",
   "execution_count": 20,
   "metadata": {
    "collapsed": false,
    "scrolled": false
   },
   "outputs": [],
   "source": [
    "man = glycan_composition._from_iupac_lite(\"Man\")"
   ]
  },
  {
   "cell_type": "code",
   "execution_count": 23,
   "metadata": {
    "collapsed": false
   },
   "outputs": [
    {
     "data": {
      "text/plain": [
       "True"
      ]
     },
     "execution_count": 23,
     "metadata": {},
     "output_type": "execute_result"
    }
   ],
   "source": [
    "man.name() == pman.name()"
   ]
  },
  {
   "cell_type": "code",
   "execution_count": 29,
   "metadata": {
    "collapsed": false
   },
   "outputs": [
    {
     "data": {
      "text/plain": [
       "3"
      ]
     },
     "execution_count": 29,
     "metadata": {},
     "output_type": "execute_result"
    }
   ],
   "source": [
    "derive_from[\"Man\"]"
   ]
  },
  {
   "cell_type": "code",
   "execution_count": 39,
   "metadata": {
    "collapsed": true
   },
   "outputs": [],
   "source": [
    "x=derive_from.clone()"
   ]
  },
  {
   "cell_type": "code",
   "execution_count": 37,
   "metadata": {
    "collapsed": false
   },
   "outputs": [],
   "source": [
    "x.update({\"Man\": 12})"
   ]
  },
  {
   "cell_type": "code",
   "execution_count": 41,
   "metadata": {
    "collapsed": false
   },
   "outputs": [
    {
     "data": {
      "text/plain": [
       "3"
      ]
     },
     "execution_count": 41,
     "metadata": {},
     "output_type": "execute_result"
    }
   ],
   "source": [
    "x[\"Man\"]"
   ]
  },
  {
   "cell_type": "code",
   "execution_count": 43,
   "metadata": {
    "collapsed": false
   },
   "outputs": [],
   "source": [
    "x = glycan_composition.GlycanComposition(Man=3)"
   ]
  },
  {
   "cell_type": "code",
   "execution_count": 47,
   "metadata": {
    "collapsed": false
   },
   "outputs": [],
   "source": [
    "x.update(**{\"Man\": 12})"
   ]
  },
  {
   "cell_type": "code",
   "execution_count": 48,
   "metadata": {
    "collapsed": false
   },
   "outputs": [
    {
     "data": {
      "text/plain": [
       "{MonosaccharideResidue(Man): 12, MonosaccharideResidue(Glc2NAc): 2}"
      ]
     },
     "execution_count": 48,
     "metadata": {},
     "output_type": "execute_result"
    }
   ],
   "source": [
    "x"
   ]
  },
  {
   "cell_type": "code",
   "execution_count": null,
   "metadata": {
    "collapsed": true
   },
   "outputs": [],
   "source": []
  }
 ],
 "metadata": {
  "kernelspec": {
   "display_name": "Python 2",
   "language": "python",
   "name": "python2"
  },
  "language_info": {
   "codemirror_mode": {
    "name": "ipython",
    "version": 2
   },
   "file_extension": ".py",
   "mimetype": "text/x-python",
   "name": "python",
   "nbconvert_exporter": "python",
   "pygments_lexer": "ipython2",
   "version": "2.7.5"
  }
 },
 "nbformat": 4,
 "nbformat_minor": 0
}
